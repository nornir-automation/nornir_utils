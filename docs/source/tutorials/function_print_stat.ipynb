{
 "cells": [
  {
   "cell_type": "markdown",
   "id": "57c50027",
   "metadata": {},
   "source": [
    "# functions: print_stat.py\n",
    "\n",
    "[print_stat](../api/functions.rst#nornir_utils.plugins.functions.print_stat) is a function that prints result statistic:"
   ]
  },
  {
   "cell_type": "code",
   "execution_count": 1,
   "id": "846f5194",
   "metadata": {},
   "outputs": [],
   "source": [
    "from nornir import InitNornir\n",
    "\n",
    "def dummy_task(task):\n",
    "    return \"hi!!!\"\n",
    "\n",
    "nr = InitNornir(\n",
    "    inventory={\n",
    "        \"plugin\":\"YAMLInventory\",\n",
    "        \"options\": {\n",
    "            \"host_file\": \"data/hosts.yaml\",\n",
    "            \"group_file\": \"data/groups.yaml\",\n",
    "            \"defaults_file\": \"data/defaults.yaml\",\n",
    "        }\n",
    "    }\n",
    ")\n",
    "\n",
    "result = nr.run(task=dummy_task)"
   ]
  },
  {
   "cell_type": "markdown",
   "id": "eaf219ba",
   "metadata": {},
   "source": [
    "Now we could print the result statistic easily with the `print_stat` function.\n",
    "\n",
    "For `AggregatedResult`:"
   ]
  },
  {
   "cell_type": "code",
   "execution_count": 3,
   "id": "ab8f58ca",
   "metadata": {},
   "outputs": [
    {
     "name": "stdout",
     "output_type": "stream",
     "text": [
      "\u001b[1m\u001b[36mdummy_task**********************************************************************\u001b[0m\n",
      "\u001b[0m\u001b[1m\u001b[34m* dev1.group_1 *****************************************************************\u001b[0m\n",
      "\u001b[0m    \u001b[1m\u001b[32mdummy_task                          ok=1               changed=0               failed=0              \u001b[0m\n",
      "\u001b[0m\u001b[1m\u001b[34m* dev2.group_1 *****************************************************************\u001b[0m\n",
      "\u001b[0m    \u001b[1m\u001b[32mdummy_task                          ok=1               changed=0               failed=0              \u001b[0m\n",
      "\u001b[0m\u001b[1m\u001b[34m* dev3.group_2 *****************************************************************\u001b[0m\n",
      "\u001b[0m    \u001b[1m\u001b[32mdummy_task                          ok=1               changed=0               failed=0              \u001b[0m\n",
      "\u001b[0m\u001b[1m\u001b[34m* dev4.group_2 *****************************************************************\u001b[0m\n",
      "\u001b[0m    \u001b[1m\u001b[32mdummy_task                          ok=1               changed=0               failed=0              \u001b[0m\n",
      "\u001b[0m\u001b[1m\u001b[34m* dev5.no_group ****************************************************************\u001b[0m\n",
      "\u001b[0m    \u001b[1m\u001b[32mdummy_task                          ok=1               changed=0               failed=0              \u001b[0m\n",
      "\u001b[0m\n",
      "\u001b[0m\u001b[1m\u001b[32mOK      : 5\u001b[0m\n",
      "\u001b[0m\u001b[1m\u001b[33mCHANGED : 0\u001b[0m\n",
      "\u001b[0m\u001b[1m\u001b[31mFAILED  : 0\u001b[0m\n",
      "\u001b[0m"
     ]
    }
   ],
   "source": [
    "from nornir_utils.plugins.functions import print_stat\n",
    "\n",
    "print_stat(result)"
   ]
  },
  {
   "cell_type": "markdown",
   "id": "03d245e5",
   "metadata": {},
   "source": [
    "If the task returns changed or failed results, you can see it:"
   ]
  },
  {
   "cell_type": "code",
   "execution_count": 4,
   "id": "d6fa941a",
   "metadata": {},
   "outputs": [
    {
     "name": "stdout",
     "output_type": "stream",
     "text": [
      "\u001b[1m\u001b[36mdummy_task**********************************************************************\u001b[0m\n",
      "\u001b[0m\u001b[1m\u001b[34m* dev1.group_1 *****************************************************************\u001b[0m\n",
      "\u001b[0m    \u001b[1m\u001b[33mdummy_task                          ok=1               changed=1               failed=0              \u001b[0m\n",
      "\u001b[0m\u001b[1m\u001b[34m* dev2.group_1 *****************************************************************\u001b[0m\n",
      "\u001b[0m    \u001b[1m\u001b[31mdummy_task                          ok=0               changed=0               failed=1              \u001b[0m\n",
      "\u001b[0m\u001b[1m\u001b[34m* dev3.group_2 *****************************************************************\u001b[0m\n",
      "\u001b[0m    \u001b[1m\u001b[32mdummy_task                          ok=1               changed=0               failed=0              \u001b[0m\n",
      "\u001b[0m\u001b[1m\u001b[34m* dev4.group_2 *****************************************************************\u001b[0m\n",
      "\u001b[0m    \u001b[1m\u001b[31mdummy_task                          ok=0               changed=0               failed=1              \u001b[0m\n",
      "\u001b[0m\u001b[1m\u001b[34m* dev5.no_group ****************************************************************\u001b[0m\n",
      "\u001b[0m    \u001b[1m\u001b[32mdummy_task                          ok=1               changed=0               failed=0              \u001b[0m\n",
      "\u001b[0m\n",
      "\u001b[0m\u001b[1m\u001b[32mOK      : 3\u001b[0m\n",
      "\u001b[0m\u001b[1m\u001b[33mCHANGED : 1\u001b[0m\n",
      "\u001b[0m\u001b[1m\u001b[31mFAILED  : 2\u001b[0m\n",
      "\u001b[0m"
     ]
    }
   ],
   "source": [
    "result[\"dev1.group_1\"][0].changed=True\n",
    "result[\"dev2.group_1\"][0].failed=True\n",
    "result[\"dev4.group_2\"][0].failed=True\n",
    "\n",
    "print_stat(result)"
   ]
  },
  {
   "cell_type": "markdown",
   "id": "06979876",
   "metadata": {},
   "source": [
    "For `MultiResult`:"
   ]
  },
  {
   "cell_type": "code",
   "execution_count": 6,
   "id": "d7601fa6",
   "metadata": {},
   "outputs": [
    {
     "name": "stdout",
     "output_type": "stream",
     "text": [
      "    \u001b[1m\u001b[33mdummy_task                          ok=1               changed=1               failed=0              \u001b[0m\n",
      "\u001b[0m\n",
      "\u001b[0m\u001b[1m\u001b[32mOK      : 1\u001b[0m\n",
      "\u001b[0m\u001b[1m\u001b[33mCHANGED : 1\u001b[0m\n",
      "\u001b[0m\u001b[1m\u001b[31mFAILED  : 0\u001b[0m\n",
      "\u001b[0m"
     ]
    }
   ],
   "source": [
    "print_stat(result[\"dev1.group_1\"])"
   ]
  },
  {
   "cell_type": "markdown",
   "id": "b1818d02",
   "metadata": {},
   "source": [
    "For `Result`:"
   ]
  },
  {
   "cell_type": "code",
   "execution_count": 8,
   "id": "224ce2ae",
   "metadata": {},
   "outputs": [
    {
     "name": "stdout",
     "output_type": "stream",
     "text": [
      "    \u001b[1m\u001b[31mdummy_task                          ok=0               changed=0               failed=1              \u001b[0m\n",
      "\u001b[0m\n",
      "\u001b[0m\u001b[1m\u001b[32mOK      : 0\u001b[0m\n",
      "\u001b[0m\u001b[1m\u001b[33mCHANGED : 0\u001b[0m\n",
      "\u001b[0m\u001b[1m\u001b[31mFAILED  : 1\u001b[0m\n",
      "\u001b[0m"
     ]
    }
   ],
   "source": [
    "print_stat(result[\"dev2.group_1\"][0])"
   ]
  },
  {
   "cell_type": "markdown",
   "id": "948feecb",
   "metadata": {},
   "source": [
    "If `MultiResult` object contains multiple `Result` objects:"
   ]
  },
  {
   "cell_type": "code",
   "execution_count": 9,
   "id": "0d811189",
   "metadata": {},
   "outputs": [],
   "source": [
    "def smart_task(task):\n",
    "    task.run(task=dummy_task)\n",
    "    task.run(task=dummy_task)\n",
    "    task.run(task=dummy_task)\n",
    "    task.run(task=dummy_task, failed=True)\n",
    "    return \"hihi!!!\"\n",
    "\n",
    "\n",
    "smart_task_result = nr.run(task=smart_task)"
   ]
  },
  {
   "cell_type": "markdown",
   "id": "b1bff397",
   "metadata": {},
   "source": [
    "For `AggregatedResult`:"
   ]
  },
  {
   "cell_type": "code",
   "execution_count": 11,
   "id": "3d0fabbb",
   "metadata": {},
   "outputs": [
    {
     "name": "stdout",
     "output_type": "stream",
     "text": [
      "\u001b[1m\u001b[36msmart_task**********************************************************************\u001b[0m\n",
      "\u001b[0m\u001b[1m\u001b[34m* dev1.group_1 *****************************************************************\u001b[0m\n",
      "\u001b[0m    \u001b[1m\u001b[31msmart_task                          ok=0               changed=0               failed=1              \u001b[0m\n",
      "\u001b[0m    \u001b[1m\u001b[32mdummy_task                          ok=1               changed=0               failed=0              \u001b[0m\n",
      "\u001b[0m    \u001b[1m\u001b[32mdummy_task                          ok=1               changed=0               failed=0              \u001b[0m\n",
      "\u001b[0m    \u001b[1m\u001b[32mdummy_task                          ok=1               changed=0               failed=0              \u001b[0m\n",
      "\u001b[0m    \u001b[1m\u001b[31mdummy_task                          ok=0               changed=0               failed=1              \u001b[0m\n",
      "\u001b[0m\u001b[1m\u001b[34m* dev2.group_1 *****************************************************************\u001b[0m\n",
      "\u001b[0m    \u001b[1m\u001b[31msmart_task                          ok=0               changed=0               failed=1              \u001b[0m\n",
      "\u001b[0m    \u001b[1m\u001b[32mdummy_task                          ok=1               changed=0               failed=0              \u001b[0m\n",
      "\u001b[0m    \u001b[1m\u001b[32mdummy_task                          ok=1               changed=0               failed=0              \u001b[0m\n",
      "\u001b[0m    \u001b[1m\u001b[32mdummy_task                          ok=1               changed=0               failed=0              \u001b[0m\n",
      "\u001b[0m    \u001b[1m\u001b[31mdummy_task                          ok=0               changed=0               failed=1              \u001b[0m\n",
      "\u001b[0m\u001b[1m\u001b[34m* dev3.group_2 *****************************************************************\u001b[0m\n",
      "\u001b[0m    \u001b[1m\u001b[31msmart_task                          ok=0               changed=0               failed=1              \u001b[0m\n",
      "\u001b[0m    \u001b[1m\u001b[32mdummy_task                          ok=1               changed=0               failed=0              \u001b[0m\n",
      "\u001b[0m    \u001b[1m\u001b[32mdummy_task                          ok=1               changed=0               failed=0              \u001b[0m\n",
      "\u001b[0m    \u001b[1m\u001b[32mdummy_task                          ok=1               changed=0               failed=0              \u001b[0m\n",
      "\u001b[0m    \u001b[1m\u001b[31mdummy_task                          ok=0               changed=0               failed=1              \u001b[0m\n",
      "\u001b[0m\u001b[1m\u001b[34m* dev4.group_2 *****************************************************************\u001b[0m\n",
      "\u001b[0m    \u001b[1m\u001b[31msmart_task                          ok=0               changed=0               failed=1              \u001b[0m\n",
      "\u001b[0m    \u001b[1m\u001b[32mdummy_task                          ok=1               changed=0               failed=0              \u001b[0m\n",
      "\u001b[0m    \u001b[1m\u001b[32mdummy_task                          ok=1               changed=0               failed=0              \u001b[0m\n",
      "\u001b[0m    \u001b[1m\u001b[32mdummy_task                          ok=1               changed=0               failed=0              \u001b[0m\n",
      "\u001b[0m    \u001b[1m\u001b[31mdummy_task                          ok=0               changed=0               failed=1              \u001b[0m\n",
      "\u001b[0m\u001b[1m\u001b[34m* dev5.no_group ****************************************************************\u001b[0m\n",
      "\u001b[0m    \u001b[1m\u001b[31msmart_task                          ok=0               changed=0               failed=1              \u001b[0m\n",
      "\u001b[0m    \u001b[1m\u001b[32mdummy_task                          ok=1               changed=0               failed=0              \u001b[0m\n",
      "\u001b[0m    \u001b[1m\u001b[32mdummy_task                          ok=1               changed=0               failed=0              \u001b[0m\n",
      "\u001b[0m    \u001b[1m\u001b[32mdummy_task                          ok=1               changed=0               failed=0              \u001b[0m\n",
      "\u001b[0m    \u001b[1m\u001b[31mdummy_task                          ok=0               changed=0               failed=1              \u001b[0m\n",
      "\u001b[0m\n",
      "\u001b[0m\u001b[1m\u001b[32mOK      : 15\u001b[0m\n",
      "\u001b[0m\u001b[1m\u001b[33mCHANGED : 0\u001b[0m\n",
      "\u001b[0m\u001b[1m\u001b[31mFAILED  : 10\u001b[0m\n",
      "\u001b[0m"
     ]
    }
   ],
   "source": [
    "print_stat(smart_task_result)"
   ]
  },
  {
   "cell_type": "markdown",
   "id": "93969b0b",
   "metadata": {},
   "source": [
    "For `MultiResult`:"
   ]
  },
  {
   "cell_type": "code",
   "execution_count": 13,
   "id": "779ce57e",
   "metadata": {},
   "outputs": [
    {
     "name": "stdout",
     "output_type": "stream",
     "text": [
      "    \u001b[1m\u001b[31msmart_task                          ok=0               changed=0               failed=1              \u001b[0m\n",
      "\u001b[0m    \u001b[1m\u001b[32mdummy_task                          ok=1               changed=0               failed=0              \u001b[0m\n",
      "\u001b[0m    \u001b[1m\u001b[32mdummy_task                          ok=1               changed=0               failed=0              \u001b[0m\n",
      "\u001b[0m    \u001b[1m\u001b[32mdummy_task                          ok=1               changed=0               failed=0              \u001b[0m\n",
      "\u001b[0m    \u001b[1m\u001b[31mdummy_task                          ok=0               changed=0               failed=1              \u001b[0m\n",
      "\u001b[0m\n",
      "\u001b[0m\u001b[1m\u001b[32mOK      : 3\u001b[0m\n",
      "\u001b[0m\u001b[1m\u001b[33mCHANGED : 0\u001b[0m\n",
      "\u001b[0m\u001b[1m\u001b[31mFAILED  : 2\u001b[0m\n",
      "\u001b[0m"
     ]
    }
   ],
   "source": [
    "print_stat(smart_task_result[\"dev1.group_1\"])"
   ]
  },
  {
   "cell_type": "markdown",
   "id": "b1e149c8",
   "metadata": {},
   "source": [
    "For `Result`:"
   ]
  },
  {
   "cell_type": "code",
   "execution_count": 15,
   "id": "d6bdd687",
   "metadata": {},
   "outputs": [
    {
     "name": "stdout",
     "output_type": "stream",
     "text": [
      "    \u001b[1m\u001b[31msmart_task                          ok=0               changed=0               failed=1              \u001b[0m\n",
      "\u001b[0m\n",
      "\u001b[0m\u001b[1m\u001b[32mOK      : 0\u001b[0m\n",
      "\u001b[0m\u001b[1m\u001b[33mCHANGED : 0\u001b[0m\n",
      "\u001b[0m\u001b[1m\u001b[31mFAILED  : 1\u001b[0m\n",
      "\u001b[0m"
     ]
    }
   ],
   "source": [
    "print_stat(smart_task_result[\"dev2.group_1\"][0])"
   ]
  },
  {
   "cell_type": "code",
   "execution_count": 17,
   "id": "316a4cc9",
   "metadata": {},
   "outputs": [
    {
     "name": "stdout",
     "output_type": "stream",
     "text": [
      "    \u001b[1m\u001b[32mdummy_task                          ok=1               changed=0               failed=0              \u001b[0m\n",
      "\u001b[0m\n",
      "\u001b[0m\u001b[1m\u001b[32mOK      : 1\u001b[0m\n",
      "\u001b[0m\u001b[1m\u001b[33mCHANGED : 0\u001b[0m\n",
      "\u001b[0m\u001b[1m\u001b[31mFAILED  : 0\u001b[0m\n",
      "\u001b[0m"
     ]
    }
   ],
   "source": [
    "print_stat(smart_task_result[\"dev2.group_1\"][1])"
   ]
  }
 ],
 "metadata": {
  "kernelspec": {
   "display_name": "Python 3",
   "language": "python",
   "name": "python3"
  },
  "language_info": {
   "codemirror_mode": {
    "name": "ipython",
    "version": 3
   },
   "file_extension": ".py",
   "mimetype": "text/x-python",
   "name": "python",
   "nbconvert_exporter": "python",
   "pygments_lexer": "ipython3",
   "version": "3.9.5"
  }
 },
 "nbformat": 4,
 "nbformat_minor": 5
}
