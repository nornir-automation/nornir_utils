{
 "cells": [
  {
   "cell_type": "markdown",
   "id": "2d2c17c5",
   "metadata": {},
   "source": [
    "# functions: write_result\n",
    "\n",
    "[write_result](../api/functions.rst#nornir_utils.plugins.functions.write_result) is a function that writes result to file. This function is based on [print_result](../api/functions.rst#nornir_utils.plugins.functions.print_result) function with `file` argument:"
   ]
  },
  {
   "cell_type": "code",
   "execution_count": 1,
   "id": "03a00337",
   "metadata": {},
   "outputs": [],
   "source": [
    "from nornir import InitNornir\n",
    "\n",
    "def dummy_task(task):\n",
    "    return \"hi!!!\"\n",
    "\n",
    "nr = InitNornir(\n",
    "    inventory={\n",
    "        \"plugin\":\"YAMLInventory\",\n",
    "        \"options\": {\n",
    "            \"host_file\": \"data/hosts.yaml\",\n",
    "            \"group_file\": \"data/groups.yaml\",\n",
    "            \"defaults_file\": \"data/defaults.yaml\",\n",
    "        }\n",
    "    }\n",
    ")\n",
    "\n",
    "result = nr.run(task=dummy_task)"
   ]
  },
  {
   "cell_type": "markdown",
   "id": "57e43930",
   "metadata": {},
   "source": [
    "Now we could write the result easily with the `write_result` function:"
   ]
  },
  {
   "cell_type": "code",
   "execution_count": 2,
   "id": "cb99b478",
   "metadata": {},
   "outputs": [],
   "source": [
    "from nornir_utils.plugins.functions import write_result\n",
    "\n",
    "write_result(result, filepath=\"out_files/write_result/result.txt\")"
   ]
  },
  {
   "cell_type": "code",
   "execution_count": 3,
   "id": "5227fd1e",
   "metadata": {},
   "outputs": [
    {
     "name": "stdout",
     "output_type": "stream",
     "text": [
      "dummy_task**********************************************************************\n",
      "* dev1.group_1 ** changed : False **********************************************\n",
      "vvvv dummy_task ** changed : False vvvvvvvvvvvvvvvvvvvvvvvvvvvvvvvvvvvvvvvvvvvvv INFO\n",
      "hi!!!\n",
      "^^^^ END dummy_task ^^^^^^^^^^^^^^^^^^^^^^^^^^^^^^^^^^^^^^^^^^^^^^^^^^^^^^^^^^^^\n",
      "* dev2.group_1 ** changed : False **********************************************\n",
      "vvvv dummy_task ** changed : False vvvvvvvvvvvvvvvvvvvvvvvvvvvvvvvvvvvvvvvvvvvvv INFO\n",
      "hi!!!\n",
      "^^^^ END dummy_task ^^^^^^^^^^^^^^^^^^^^^^^^^^^^^^^^^^^^^^^^^^^^^^^^^^^^^^^^^^^^\n",
      "* dev3.group_2 ** changed : False **********************************************\n",
      "vvvv dummy_task ** changed : False vvvvvvvvvvvvvvvvvvvvvvvvvvvvvvvvvvvvvvvvvvvvv INFO\n",
      "hi!!!\n",
      "^^^^ END dummy_task ^^^^^^^^^^^^^^^^^^^^^^^^^^^^^^^^^^^^^^^^^^^^^^^^^^^^^^^^^^^^\n",
      "* dev4.group_2 ** changed : False **********************************************\n",
      "vvvv dummy_task ** changed : False vvvvvvvvvvvvvvvvvvvvvvvvvvvvvvvvvvvvvvvvvvvvv INFO\n",
      "hi!!!\n",
      "^^^^ END dummy_task ^^^^^^^^^^^^^^^^^^^^^^^^^^^^^^^^^^^^^^^^^^^^^^^^^^^^^^^^^^^^\n",
      "* dev5.no_group ** changed : False *********************************************\n",
      "vvvv dummy_task ** changed : False vvvvvvvvvvvvvvvvvvvvvvvvvvvvvvvvvvvvvvvvvvvvv INFO\n",
      "hi!!!\n",
      "^^^^ END dummy_task ^^^^^^^^^^^^^^^^^^^^^^^^^^^^^^^^^^^^^^^^^^^^^^^^^^^^^^^^^^^^\n",
      "\u001b[0m\u001b[0m\u001b[0m\n",
      "\u001b[0m\u001b[0m\u001b[0m"
     ]
    }
   ],
   "source": [
    "with open(\"out_files/write_result/result.txt\") as f:\n",
    "    print(f.read())"
   ]
  },
  {
   "cell_type": "markdown",
   "id": "a1f86c3a",
   "metadata": {},
   "source": [
    "`filepath` here is path to file, you want to write the result. Any missing directories from the `filepath` argument are created as needed."
   ]
  },
  {
   "cell_type": "markdown",
   "id": "231ce6f0",
   "metadata": {},
   "source": [
    "## Writing specific data\n",
    "\n",
    "If the task returns different information, you can also select which ones to write. For instance:"
   ]
  },
  {
   "cell_type": "code",
   "execution_count": 4,
   "id": "774eaef7",
   "metadata": {},
   "outputs": [],
   "source": [
    "from nornir.core.task import Result\n",
    "\n",
    "def task_with_data(task):\n",
    "    return Result(host=task.host, result=\"Spaghetti monster\", sw_char=\"Jar Jar Binks\", food=\"hawaiian pizza\", OS=\"windows\")\n",
    "\n",
    "\n",
    "fav_result = nr.run(task=task_with_data)\n",
    "\n",
    "# write only sw_char and food vars\n",
    "write_result(fav_result, filepath=\"out_files/write_result/result.txt\", vars=[\"sw_char\", \"food\"])"
   ]
  },
  {
   "cell_type": "code",
   "execution_count": 5,
   "id": "a1ac0f7f",
   "metadata": {},
   "outputs": [
    {
     "name": "stdout",
     "output_type": "stream",
     "text": [
      "task_with_data******************************************************************\n",
      "* dev1.group_1 ** changed : False **********************************************\n",
      "vvvv task_with_data ** changed : False vvvvvvvvvvvvvvvvvvvvvvvvvvvvvvvvvvvvvvvvv INFO\n",
      "Jar Jar Binks\n",
      "hawaiian pizza\n",
      "^^^^ END task_with_data ^^^^^^^^^^^^^^^^^^^^^^^^^^^^^^^^^^^^^^^^^^^^^^^^^^^^^^^^\n",
      "* dev2.group_1 ** changed : False **********************************************\n",
      "vvvv task_with_data ** changed : False vvvvvvvvvvvvvvvvvvvvvvvvvvvvvvvvvvvvvvvvv INFO\n",
      "Jar Jar Binks\n",
      "hawaiian pizza\n",
      "^^^^ END task_with_data ^^^^^^^^^^^^^^^^^^^^^^^^^^^^^^^^^^^^^^^^^^^^^^^^^^^^^^^^\n",
      "* dev3.group_2 ** changed : False **********************************************\n",
      "vvvv task_with_data ** changed : False vvvvvvvvvvvvvvvvvvvvvvvvvvvvvvvvvvvvvvvvv INFO\n",
      "Jar Jar Binks\n",
      "hawaiian pizza\n",
      "^^^^ END task_with_data ^^^^^^^^^^^^^^^^^^^^^^^^^^^^^^^^^^^^^^^^^^^^^^^^^^^^^^^^\n",
      "* dev4.group_2 ** changed : False **********************************************\n",
      "vvvv task_with_data ** changed : False vvvvvvvvvvvvvvvvvvvvvvvvvvvvvvvvvvvvvvvvv INFO\n",
      "Jar Jar Binks\n",
      "hawaiian pizza\n",
      "^^^^ END task_with_data ^^^^^^^^^^^^^^^^^^^^^^^^^^^^^^^^^^^^^^^^^^^^^^^^^^^^^^^^\n",
      "* dev5.no_group ** changed : False *********************************************\n",
      "vvvv task_with_data ** changed : False vvvvvvvvvvvvvvvvvvvvvvvvvvvvvvvvvvvvvvvvv INFO\n",
      "Jar Jar Binks\n",
      "hawaiian pizza\n",
      "^^^^ END task_with_data ^^^^^^^^^^^^^^^^^^^^^^^^^^^^^^^^^^^^^^^^^^^^^^^^^^^^^^^^\n",
      "\u001b[0m\u001b[0m\u001b[0m\n",
      "\u001b[0m\u001b[0m\u001b[0m"
     ]
    }
   ],
   "source": [
    "with open(\"out_files/write_result/result.txt\") as f:\n",
    "    print(f.read())"
   ]
  },
  {
   "cell_type": "markdown",
   "id": "568719c8",
   "metadata": {},
   "source": [
    "## Severity\n",
    "\n",
    "You can also ask `write_result` to write the results only if the severity is equal or superior to the one specified. This is particularly useful if your script is very large and you don't care about intermediate results. For instance:"
   ]
  },
  {
   "cell_type": "code",
   "execution_count": 6,
   "id": "6dd24ac3",
   "metadata": {},
   "outputs": [],
   "source": [
    "import logging\n",
    "\n",
    "def complex_task(task):\n",
    "    task.run(task=dummy_task, severity_level=logging.DEBUG)\n",
    "    task.run(task=dummy_task, severity_level=logging.DEBUG)\n",
    "    task.run(task=dummy_task, severity_level=logging.DEBUG)\n",
    "    task.run(task=dummy_task, severity_level=logging.DEBUG)\n",
    "    task.run(task=dummy_task, severity_level=logging.DEBUG)\n",
    "    return \"I did a lot of things!!!\"\n",
    "\n",
    "complex_result = nr.run(task=complex_task)"
   ]
  },
  {
   "cell_type": "markdown",
   "id": "36d6d9c4",
   "metadata": {},
   "source": [
    "`write_result` will only write `INFO` severity and above by default, so, if we write the result, we should only see the result of the parent task:"
   ]
  },
  {
   "cell_type": "code",
   "execution_count": 7,
   "id": "9d33d258",
   "metadata": {},
   "outputs": [],
   "source": [
    "write_result(complex_result, filepath=\"out_files/write_result/result.txt\")"
   ]
  },
  {
   "cell_type": "code",
   "execution_count": 8,
   "id": "36f7b1c9",
   "metadata": {},
   "outputs": [
    {
     "name": "stdout",
     "output_type": "stream",
     "text": [
      "complex_task********************************************************************\n",
      "* dev1.group_1 ** changed : False **********************************************\n",
      "vvvv complex_task ** changed : False vvvvvvvvvvvvvvvvvvvvvvvvvvvvvvvvvvvvvvvvvvv INFO\n",
      "I did a lot of things!!!\n",
      "^^^^ END complex_task ^^^^^^^^^^^^^^^^^^^^^^^^^^^^^^^^^^^^^^^^^^^^^^^^^^^^^^^^^^\n",
      "* dev2.group_1 ** changed : False **********************************************\n",
      "vvvv complex_task ** changed : False vvvvvvvvvvvvvvvvvvvvvvvvvvvvvvvvvvvvvvvvvvv INFO\n",
      "I did a lot of things!!!\n",
      "^^^^ END complex_task ^^^^^^^^^^^^^^^^^^^^^^^^^^^^^^^^^^^^^^^^^^^^^^^^^^^^^^^^^^\n",
      "* dev3.group_2 ** changed : False **********************************************\n",
      "vvvv complex_task ** changed : False vvvvvvvvvvvvvvvvvvvvvvvvvvvvvvvvvvvvvvvvvvv INFO\n",
      "I did a lot of things!!!\n",
      "^^^^ END complex_task ^^^^^^^^^^^^^^^^^^^^^^^^^^^^^^^^^^^^^^^^^^^^^^^^^^^^^^^^^^\n",
      "* dev4.group_2 ** changed : False **********************************************\n",
      "vvvv complex_task ** changed : False vvvvvvvvvvvvvvvvvvvvvvvvvvvvvvvvvvvvvvvvvvv INFO\n",
      "I did a lot of things!!!\n",
      "^^^^ END complex_task ^^^^^^^^^^^^^^^^^^^^^^^^^^^^^^^^^^^^^^^^^^^^^^^^^^^^^^^^^^\n",
      "* dev5.no_group ** changed : False *********************************************\n",
      "vvvv complex_task ** changed : False vvvvvvvvvvvvvvvvvvvvvvvvvvvvvvvvvvvvvvvvvvv INFO\n",
      "I did a lot of things!!!\n",
      "^^^^ END complex_task ^^^^^^^^^^^^^^^^^^^^^^^^^^^^^^^^^^^^^^^^^^^^^^^^^^^^^^^^^^\n",
      "\u001b[0m\u001b[0m\u001b[0m\n",
      "\u001b[0m\u001b[0m\u001b[0m"
     ]
    }
   ],
   "source": [
    "with open(\"out_files/write_result/result.txt\") as f:\n",
    "    print(f.read())"
   ]
  },
  {
   "cell_type": "markdown",
   "id": "86998af3",
   "metadata": {},
   "source": [
    "If you want to write all the tasks for debugging purposes you could specify it with:"
   ]
  },
  {
   "cell_type": "code",
   "execution_count": 9,
   "id": "f9c380ae",
   "metadata": {},
   "outputs": [],
   "source": [
    "write_result(complex_result, filepath=\"out_files/write_result/result.txt\", severity_level=logging.DEBUG)"
   ]
  },
  {
   "cell_type": "code",
   "execution_count": 10,
   "id": "3801974b",
   "metadata": {},
   "outputs": [
    {
     "name": "stdout",
     "output_type": "stream",
     "text": [
      "complex_task********************************************************************\n",
      "* dev1.group_1 ** changed : False **********************************************\n",
      "vvvv complex_task ** changed : False vvvvvvvvvvvvvvvvvvvvvvvvvvvvvvvvvvvvvvvvvvv INFO\n",
      "I did a lot of things!!!\n",
      "---- dummy_task ** changed : False --------------------------------------------- DEBUG\n",
      "hi!!!\n",
      "---- dummy_task ** changed : False --------------------------------------------- DEBUG\n",
      "hi!!!\n",
      "---- dummy_task ** changed : False --------------------------------------------- DEBUG\n",
      "hi!!!\n",
      "---- dummy_task ** changed : False --------------------------------------------- DEBUG\n",
      "hi!!!\n",
      "---- dummy_task ** changed : False --------------------------------------------- DEBUG\n",
      "hi!!!\n",
      "^^^^ END complex_task ^^^^^^^^^^^^^^^^^^^^^^^^^^^^^^^^^^^^^^^^^^^^^^^^^^^^^^^^^^\n",
      "* dev2.group_1 ** changed : False **********************************************\n",
      "vvvv complex_task ** changed : False vvvvvvvvvvvvvvvvvvvvvvvvvvvvvvvvvvvvvvvvvvv INFO\n",
      "I did a lot of things!!!\n",
      "---- dummy_task ** changed : False --------------------------------------------- DEBUG\n",
      "hi!!!\n",
      "---- dummy_task ** changed : False --------------------------------------------- DEBUG\n",
      "hi!!!\n",
      "---- dummy_task ** changed : False --------------------------------------------- DEBUG\n",
      "hi!!!\n",
      "---- dummy_task ** changed : False --------------------------------------------- DEBUG\n",
      "hi!!!\n",
      "---- dummy_task ** changed : False --------------------------------------------- DEBUG\n",
      "hi!!!\n",
      "^^^^ END complex_task ^^^^^^^^^^^^^^^^^^^^^^^^^^^^^^^^^^^^^^^^^^^^^^^^^^^^^^^^^^\n",
      "* dev3.group_2 ** changed : False **********************************************\n",
      "vvvv complex_task ** changed : False vvvvvvvvvvvvvvvvvvvvvvvvvvvvvvvvvvvvvvvvvvv INFO\n",
      "I did a lot of things!!!\n",
      "---- dummy_task ** changed : False --------------------------------------------- DEBUG\n",
      "hi!!!\n",
      "---- dummy_task ** changed : False --------------------------------------------- DEBUG\n",
      "hi!!!\n",
      "---- dummy_task ** changed : False --------------------------------------------- DEBUG\n",
      "hi!!!\n",
      "---- dummy_task ** changed : False --------------------------------------------- DEBUG\n",
      "hi!!!\n",
      "---- dummy_task ** changed : False --------------------------------------------- DEBUG\n",
      "hi!!!\n",
      "^^^^ END complex_task ^^^^^^^^^^^^^^^^^^^^^^^^^^^^^^^^^^^^^^^^^^^^^^^^^^^^^^^^^^\n",
      "* dev4.group_2 ** changed : False **********************************************\n",
      "vvvv complex_task ** changed : False vvvvvvvvvvvvvvvvvvvvvvvvvvvvvvvvvvvvvvvvvvv INFO\n",
      "I did a lot of things!!!\n",
      "---- dummy_task ** changed : False --------------------------------------------- DEBUG\n",
      "hi!!!\n",
      "---- dummy_task ** changed : False --------------------------------------------- DEBUG\n",
      "hi!!!\n",
      "---- dummy_task ** changed : False --------------------------------------------- DEBUG\n",
      "hi!!!\n",
      "---- dummy_task ** changed : False --------------------------------------------- DEBUG\n",
      "hi!!!\n",
      "---- dummy_task ** changed : False --------------------------------------------- DEBUG\n",
      "hi!!!\n",
      "^^^^ END complex_task ^^^^^^^^^^^^^^^^^^^^^^^^^^^^^^^^^^^^^^^^^^^^^^^^^^^^^^^^^^\n",
      "* dev5.no_group ** changed : False *********************************************\n",
      "vvvv complex_task ** changed : False vvvvvvvvvvvvvvvvvvvvvvvvvvvvvvvvvvvvvvvvvvv INFO\n",
      "I did a lot of things!!!\n",
      "---- dummy_task ** changed : False --------------------------------------------- DEBUG\n",
      "hi!!!\n",
      "---- dummy_task ** changed : False --------------------------------------------- DEBUG\n",
      "hi!!!\n",
      "---- dummy_task ** changed : False --------------------------------------------- DEBUG\n",
      "hi!!!\n",
      "---- dummy_task ** changed : False --------------------------------------------- DEBUG\n",
      "hi!!!\n",
      "---- dummy_task ** changed : False --------------------------------------------- DEBUG\n",
      "hi!!!\n",
      "^^^^ END complex_task ^^^^^^^^^^^^^^^^^^^^^^^^^^^^^^^^^^^^^^^^^^^^^^^^^^^^^^^^^^\n",
      "\u001b[0m\u001b[0m\u001b[0m\n",
      "\u001b[0m\u001b[0m\u001b[0m"
     ]
    }
   ],
   "source": [
    "with open(\"out_files/write_result/result.txt\") as f:\n",
    "    print(f.read())"
   ]
  },
  {
   "cell_type": "markdown",
   "id": "7a21917b",
   "metadata": {},
   "source": [
    "## No_errors\n",
    "\n",
    "If some `Result` objects have exceptions, then you can exclude them from the file:"
   ]
  },
  {
   "cell_type": "code",
   "execution_count": 11,
   "id": "1ba33b08",
   "metadata": {},
   "outputs": [],
   "source": [
    "def task_with_exception(task):\n",
    "    return Result(host=task.host, result=\"Something went wrong\", exception=Exception())\n",
    "\n",
    "\n",
    "def task_without_exception(task):\n",
    "    return \"All is fine\"\n",
    "\n",
    "def task(task):\n",
    "    task.run(task=task_with_exception)\n",
    "    task.run(task=task_without_exception)\n",
    "    return \"What's happening?\"\n",
    "\n",
    "    \n",
    "result_with_exception = nr.run(task=task)\n",
    "\n",
    "write_result(result_with_exception, filepath=\"out_files/write_result/result_with_exception.txt\")"
   ]
  },
  {
   "cell_type": "code",
   "execution_count": 12,
   "id": "f0ae57ae",
   "metadata": {},
   "outputs": [
    {
     "name": "stdout",
     "output_type": "stream",
     "text": [
      "task****************************************************************************\n",
      "* dev1.group_1 ** changed : False **********************************************\n",
      "vvvv task ** changed : False vvvvvvvvvvvvvvvvvvvvvvvvvvvvvvvvvvvvvvvvvvvvvvvvvvv INFO\n",
      "What's happening?\n",
      "---- task_with_exception ** changed : False ------------------------------------ INFO\n",
      "Something went wrong\n",
      "---- task_without_exception ** changed : False --------------------------------- INFO\n",
      "All is fine\n",
      "^^^^ END task ^^^^^^^^^^^^^^^^^^^^^^^^^^^^^^^^^^^^^^^^^^^^^^^^^^^^^^^^^^^^^^^^^^\n",
      "* dev2.group_1 ** changed : False **********************************************\n",
      "vvvv task ** changed : False vvvvvvvvvvvvvvvvvvvvvvvvvvvvvvvvvvvvvvvvvvvvvvvvvvv INFO\n",
      "What's happening?\n",
      "---- task_with_exception ** changed : False ------------------------------------ INFO\n",
      "Something went wrong\n",
      "---- task_without_exception ** changed : False --------------------------------- INFO\n",
      "All is fine\n",
      "^^^^ END task ^^^^^^^^^^^^^^^^^^^^^^^^^^^^^^^^^^^^^^^^^^^^^^^^^^^^^^^^^^^^^^^^^^\n",
      "* dev3.group_2 ** changed : False **********************************************\n",
      "vvvv task ** changed : False vvvvvvvvvvvvvvvvvvvvvvvvvvvvvvvvvvvvvvvvvvvvvvvvvvv INFO\n",
      "What's happening?\n",
      "---- task_with_exception ** changed : False ------------------------------------ INFO\n",
      "Something went wrong\n",
      "---- task_without_exception ** changed : False --------------------------------- INFO\n",
      "All is fine\n",
      "^^^^ END task ^^^^^^^^^^^^^^^^^^^^^^^^^^^^^^^^^^^^^^^^^^^^^^^^^^^^^^^^^^^^^^^^^^\n",
      "* dev4.group_2 ** changed : False **********************************************\n",
      "vvvv task ** changed : False vvvvvvvvvvvvvvvvvvvvvvvvvvvvvvvvvvvvvvvvvvvvvvvvvvv INFO\n",
      "What's happening?\n",
      "---- task_with_exception ** changed : False ------------------------------------ INFO\n",
      "Something went wrong\n",
      "---- task_without_exception ** changed : False --------------------------------- INFO\n",
      "All is fine\n",
      "^^^^ END task ^^^^^^^^^^^^^^^^^^^^^^^^^^^^^^^^^^^^^^^^^^^^^^^^^^^^^^^^^^^^^^^^^^\n",
      "* dev5.no_group ** changed : False *********************************************\n",
      "vvvv task ** changed : False vvvvvvvvvvvvvvvvvvvvvvvvvvvvvvvvvvvvvvvvvvvvvvvvvvv INFO\n",
      "What's happening?\n",
      "---- task_with_exception ** changed : False ------------------------------------ INFO\n",
      "Something went wrong\n",
      "---- task_without_exception ** changed : False --------------------------------- INFO\n",
      "All is fine\n",
      "^^^^ END task ^^^^^^^^^^^^^^^^^^^^^^^^^^^^^^^^^^^^^^^^^^^^^^^^^^^^^^^^^^^^^^^^^^\n",
      "\u001b[0m\u001b[0m\u001b[0m\n",
      "\u001b[0m\u001b[0m\u001b[0m"
     ]
    }
   ],
   "source": [
    "with open(\"out_files/write_result/result_with_exception.txt\") as f:\n",
    "    print(f.read())"
   ]
  },
  {
   "cell_type": "code",
   "execution_count": 13,
   "id": "f4c0a91c",
   "metadata": {},
   "outputs": [],
   "source": [
    "write_result(result_with_exception, filepath=\"out_files/write_result/result_without_exception.txt\", no_errors=True)"
   ]
  },
  {
   "cell_type": "code",
   "execution_count": 14,
   "id": "e5a046e8",
   "metadata": {},
   "outputs": [
    {
     "name": "stdout",
     "output_type": "stream",
     "text": [
      "task****************************************************************************\n",
      "* dev1.group_1 ** changed : False **********************************************\n",
      "vvvv task ** changed : False vvvvvvvvvvvvvvvvvvvvvvvvvvvvvvvvvvvvvvvvvvvvvvvvvvv INFO\n",
      "What's happening?\n",
      "---- task_without_exception ** changed : False --------------------------------- INFO\n",
      "All is fine\n",
      "^^^^ END task ^^^^^^^^^^^^^^^^^^^^^^^^^^^^^^^^^^^^^^^^^^^^^^^^^^^^^^^^^^^^^^^^^^\n",
      "* dev2.group_1 ** changed : False **********************************************\n",
      "vvvv task ** changed : False vvvvvvvvvvvvvvvvvvvvvvvvvvvvvvvvvvvvvvvvvvvvvvvvvvv INFO\n",
      "What's happening?\n",
      "---- task_without_exception ** changed : False --------------------------------- INFO\n",
      "All is fine\n",
      "^^^^ END task ^^^^^^^^^^^^^^^^^^^^^^^^^^^^^^^^^^^^^^^^^^^^^^^^^^^^^^^^^^^^^^^^^^\n",
      "* dev3.group_2 ** changed : False **********************************************\n",
      "vvvv task ** changed : False vvvvvvvvvvvvvvvvvvvvvvvvvvvvvvvvvvvvvvvvvvvvvvvvvvv INFO\n",
      "What's happening?\n",
      "---- task_without_exception ** changed : False --------------------------------- INFO\n",
      "All is fine\n",
      "^^^^ END task ^^^^^^^^^^^^^^^^^^^^^^^^^^^^^^^^^^^^^^^^^^^^^^^^^^^^^^^^^^^^^^^^^^\n",
      "* dev4.group_2 ** changed : False **********************************************\n",
      "vvvv task ** changed : False vvvvvvvvvvvvvvvvvvvvvvvvvvvvvvvvvvvvvvvvvvvvvvvvvvv INFO\n",
      "What's happening?\n",
      "---- task_without_exception ** changed : False --------------------------------- INFO\n",
      "All is fine\n",
      "^^^^ END task ^^^^^^^^^^^^^^^^^^^^^^^^^^^^^^^^^^^^^^^^^^^^^^^^^^^^^^^^^^^^^^^^^^\n",
      "* dev5.no_group ** changed : False *********************************************\n",
      "vvvv task ** changed : False vvvvvvvvvvvvvvvvvvvvvvvvvvvvvvvvvvvvvvvvvvvvvvvvvvv INFO\n",
      "What's happening?\n",
      "---- task_without_exception ** changed : False --------------------------------- INFO\n",
      "All is fine\n",
      "^^^^ END task ^^^^^^^^^^^^^^^^^^^^^^^^^^^^^^^^^^^^^^^^^^^^^^^^^^^^^^^^^^^^^^^^^^\n",
      "\u001b[0m\u001b[0m\u001b[0m\n",
      "\u001b[0m\u001b[0m\u001b[0m"
     ]
    }
   ],
   "source": [
    "with open(\"out_files/write_result/result_without_exception.txt\") as f:\n",
    "    print(f.read())"
   ]
  },
  {
   "cell_type": "markdown",
   "id": "44d096ef",
   "metadata": {},
   "source": [
    "## Write_host\n",
    "\n",
    "`write_host` argument can help you, if you don't need to write hostnames to file for `MultiResult` or `Result` object. As instance, this can be useful, when there is already hostname in the filename and you don't want to duplicate it."
   ]
  },
  {
   "cell_type": "markdown",
   "id": "5e6ae76e",
   "metadata": {},
   "source": [
    "For `MultiResult`:"
   ]
  },
  {
   "cell_type": "code",
   "execution_count": 15,
   "id": "fb93e599",
   "metadata": {},
   "outputs": [],
   "source": [
    "write_result(complex_result['dev1.group_1'], filepath=\"out_files/write_result/dev1.group_1_multiresult.txt\", write_host=False)"
   ]
  },
  {
   "cell_type": "code",
   "execution_count": 16,
   "id": "1675db9a",
   "metadata": {},
   "outputs": [
    {
     "name": "stdout",
     "output_type": "stream",
     "text": [
      "vvvv complex_task ** changed : False vvvvvvvvvvvvvvvvvvvvvvvvvvvvvvvvvvvvvvvvvvv INFO\n",
      "I did a lot of things!!!\n",
      "^^^^ END complex_task ^^^^^^^^^^^^^^^^^^^^^^^^^^^^^^^^^^^^^^^^^^^^^^^^^^^^^^^^^^\n",
      "\u001b[0m\u001b[0m\u001b[0m\n",
      "\u001b[0m\u001b[0m\u001b[0m"
     ]
    }
   ],
   "source": [
    "with open(\"out_files/write_result/dev1.group_1_multiresult.txt\") as f:\n",
    "    print(f.read())"
   ]
  },
  {
   "cell_type": "markdown",
   "id": "82b67b9c",
   "metadata": {},
   "source": [
    "For `Result`:"
   ]
  },
  {
   "cell_type": "code",
   "execution_count": 17,
   "id": "4eb5efaa",
   "metadata": {},
   "outputs": [],
   "source": [
    "write_result(complex_result['dev1.group_1'][0], filepath=\"out_files/write_result/dev1.group_1_result.txt\", write_host=False)"
   ]
  },
  {
   "cell_type": "code",
   "execution_count": 18,
   "id": "77df1fc9",
   "metadata": {},
   "outputs": [
    {
     "name": "stdout",
     "output_type": "stream",
     "text": [
      "---- complex_task ** changed : False ------------------------------------------- INFO\n",
      "I did a lot of things!!!\n",
      "\u001b[0m\u001b[0m\u001b[0m\n",
      "\u001b[0m\u001b[0m\u001b[0m"
     ]
    }
   ],
   "source": [
    "with open(\"out_files/write_result/dev1.group_1_result.txt\") as f:\n",
    "    print(f.read())"
   ]
  },
  {
   "cell_type": "markdown",
   "id": "34a824f1",
   "metadata": {},
   "source": [
    "## Append\n",
    "\n",
    "`append` argument allows you to use `a+` or `w+` (default mode) writing mode. As instance:"
   ]
  },
  {
   "cell_type": "code",
   "execution_count": 19,
   "id": "62cbce4a",
   "metadata": {},
   "outputs": [],
   "source": [
    "write_result(fav_result, filepath=\"out_files/write_result/result.txt\", append=True)"
   ]
  },
  {
   "cell_type": "code",
   "execution_count": 20,
   "id": "77bfdfba",
   "metadata": {},
   "outputs": [
    {
     "name": "stdout",
     "output_type": "stream",
     "text": [
      "complex_task********************************************************************\n",
      "* dev1.group_1 ** changed : False **********************************************\n",
      "vvvv complex_task ** changed : False vvvvvvvvvvvvvvvvvvvvvvvvvvvvvvvvvvvvvvvvvvv INFO\n",
      "I did a lot of things!!!\n",
      "---- dummy_task ** changed : False --------------------------------------------- DEBUG\n",
      "hi!!!\n",
      "---- dummy_task ** changed : False --------------------------------------------- DEBUG\n",
      "hi!!!\n",
      "---- dummy_task ** changed : False --------------------------------------------- DEBUG\n",
      "hi!!!\n",
      "---- dummy_task ** changed : False --------------------------------------------- DEBUG\n",
      "hi!!!\n",
      "---- dummy_task ** changed : False --------------------------------------------- DEBUG\n",
      "hi!!!\n",
      "^^^^ END complex_task ^^^^^^^^^^^^^^^^^^^^^^^^^^^^^^^^^^^^^^^^^^^^^^^^^^^^^^^^^^\n",
      "* dev2.group_1 ** changed : False **********************************************\n",
      "vvvv complex_task ** changed : False vvvvvvvvvvvvvvvvvvvvvvvvvvvvvvvvvvvvvvvvvvv INFO\n",
      "I did a lot of things!!!\n",
      "---- dummy_task ** changed : False --------------------------------------------- DEBUG\n",
      "hi!!!\n",
      "---- dummy_task ** changed : False --------------------------------------------- DEBUG\n",
      "hi!!!\n",
      "---- dummy_task ** changed : False --------------------------------------------- DEBUG\n",
      "hi!!!\n",
      "---- dummy_task ** changed : False --------------------------------------------- DEBUG\n",
      "hi!!!\n",
      "---- dummy_task ** changed : False --------------------------------------------- DEBUG\n",
      "hi!!!\n",
      "^^^^ END complex_task ^^^^^^^^^^^^^^^^^^^^^^^^^^^^^^^^^^^^^^^^^^^^^^^^^^^^^^^^^^\n",
      "* dev3.group_2 ** changed : False **********************************************\n",
      "vvvv complex_task ** changed : False vvvvvvvvvvvvvvvvvvvvvvvvvvvvvvvvvvvvvvvvvvv INFO\n",
      "I did a lot of things!!!\n",
      "---- dummy_task ** changed : False --------------------------------------------- DEBUG\n",
      "hi!!!\n",
      "---- dummy_task ** changed : False --------------------------------------------- DEBUG\n",
      "hi!!!\n",
      "---- dummy_task ** changed : False --------------------------------------------- DEBUG\n",
      "hi!!!\n",
      "---- dummy_task ** changed : False --------------------------------------------- DEBUG\n",
      "hi!!!\n",
      "---- dummy_task ** changed : False --------------------------------------------- DEBUG\n",
      "hi!!!\n",
      "^^^^ END complex_task ^^^^^^^^^^^^^^^^^^^^^^^^^^^^^^^^^^^^^^^^^^^^^^^^^^^^^^^^^^\n",
      "* dev4.group_2 ** changed : False **********************************************\n",
      "vvvv complex_task ** changed : False vvvvvvvvvvvvvvvvvvvvvvvvvvvvvvvvvvvvvvvvvvv INFO\n",
      "I did a lot of things!!!\n",
      "---- dummy_task ** changed : False --------------------------------------------- DEBUG\n",
      "hi!!!\n",
      "---- dummy_task ** changed : False --------------------------------------------- DEBUG\n",
      "hi!!!\n",
      "---- dummy_task ** changed : False --------------------------------------------- DEBUG\n",
      "hi!!!\n",
      "---- dummy_task ** changed : False --------------------------------------------- DEBUG\n",
      "hi!!!\n",
      "---- dummy_task ** changed : False --------------------------------------------- DEBUG\n",
      "hi!!!\n",
      "^^^^ END complex_task ^^^^^^^^^^^^^^^^^^^^^^^^^^^^^^^^^^^^^^^^^^^^^^^^^^^^^^^^^^\n",
      "* dev5.no_group ** changed : False *********************************************\n",
      "vvvv complex_task ** changed : False vvvvvvvvvvvvvvvvvvvvvvvvvvvvvvvvvvvvvvvvvvv INFO\n",
      "I did a lot of things!!!\n",
      "---- dummy_task ** changed : False --------------------------------------------- DEBUG\n",
      "hi!!!\n",
      "---- dummy_task ** changed : False --------------------------------------------- DEBUG\n",
      "hi!!!\n",
      "---- dummy_task ** changed : False --------------------------------------------- DEBUG\n",
      "hi!!!\n",
      "---- dummy_task ** changed : False --------------------------------------------- DEBUG\n",
      "hi!!!\n",
      "---- dummy_task ** changed : False --------------------------------------------- DEBUG\n",
      "hi!!!\n",
      "^^^^ END complex_task ^^^^^^^^^^^^^^^^^^^^^^^^^^^^^^^^^^^^^^^^^^^^^^^^^^^^^^^^^^\n",
      "\n",
      "\n",
      "task_with_data******************************************************************\n",
      "* dev1.group_1 ** changed : False **********************************************\n",
      "vvvv task_with_data ** changed : False vvvvvvvvvvvvvvvvvvvvvvvvvvvvvvvvvvvvvvvvv INFO\n",
      "Spaghetti monster\n",
      "^^^^ END task_with_data ^^^^^^^^^^^^^^^^^^^^^^^^^^^^^^^^^^^^^^^^^^^^^^^^^^^^^^^^\n",
      "* dev2.group_1 ** changed : False **********************************************\n",
      "vvvv task_with_data ** changed : False vvvvvvvvvvvvvvvvvvvvvvvvvvvvvvvvvvvvvvvvv INFO\n",
      "Spaghetti monster\n",
      "^^^^ END task_with_data ^^^^^^^^^^^^^^^^^^^^^^^^^^^^^^^^^^^^^^^^^^^^^^^^^^^^^^^^\n",
      "* dev3.group_2 ** changed : False **********************************************\n",
      "vvvv task_with_data ** changed : False vvvvvvvvvvvvvvvvvvvvvvvvvvvvvvvvvvvvvvvvv INFO\n",
      "Spaghetti monster\n",
      "^^^^ END task_with_data ^^^^^^^^^^^^^^^^^^^^^^^^^^^^^^^^^^^^^^^^^^^^^^^^^^^^^^^^\n",
      "* dev4.group_2 ** changed : False **********************************************\n",
      "vvvv task_with_data ** changed : False vvvvvvvvvvvvvvvvvvvvvvvvvvvvvvvvvvvvvvvvv INFO\n",
      "Spaghetti monster\n",
      "^^^^ END task_with_data ^^^^^^^^^^^^^^^^^^^^^^^^^^^^^^^^^^^^^^^^^^^^^^^^^^^^^^^^\n",
      "* dev5.no_group ** changed : False *********************************************\n",
      "vvvv task_with_data ** changed : False vvvvvvvvvvvvvvvvvvvvvvvvvvvvvvvvvvvvvvvvv INFO\n",
      "Spaghetti monster\n",
      "^^^^ END task_with_data ^^^^^^^^^^^^^^^^^^^^^^^^^^^^^^^^^^^^^^^^^^^^^^^^^^^^^^^^\n",
      "\u001b[0m\u001b[0m\u001b[0m\n",
      "\u001b[0m\u001b[0m\u001b[0m"
     ]
    }
   ],
   "source": [
    "with open(\"out_files/write_result/result.txt\") as f:\n",
    "    print(f.read())"
   ]
  }
 ],
 "metadata": {
  "kernelspec": {
   "display_name": "Python 3 (ipykernel)",
   "language": "python",
   "name": "python3"
  },
  "language_info": {
   "codemirror_mode": {
    "name": "ipython",
    "version": 3
   },
   "file_extension": ".py",
   "mimetype": "text/x-python",
   "name": "python",
   "nbconvert_exporter": "python",
   "pygments_lexer": "ipython3",
   "version": "3.9.5"
  }
 },
 "nbformat": 4,
 "nbformat_minor": 5
}
