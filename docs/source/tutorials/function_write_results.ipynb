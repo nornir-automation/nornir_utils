{
 "cells": [
  {
   "cell_type": "markdown",
   "id": "2d2c17c5",
   "metadata": {},
   "source": [
    "# functions: write_results\n",
    "\n",
    "[write_results](../api/functions.rst#nornir_utils.plugins.functions.write_results) is a function that writes result to files with hostname names and returns list of tuples with hostname + diff between old file and new file:"
   ]
  },
  {
   "cell_type": "code",
   "execution_count": 1,
   "id": "03a00337",
   "metadata": {},
   "outputs": [],
   "source": [
    "from nornir import InitNornir\n",
    "\n",
    "def dummy_task(task):\n",
    "    return \"hi!!!\"\n",
    "\n",
    "nr = InitNornir(\n",
    "    inventory={\n",
    "        \"plugin\":\"YAMLInventory\",\n",
    "        \"options\": {\n",
    "            \"host_file\": \"data/hosts.yaml\",\n",
    "            \"group_file\": \"data/groups.yaml\",\n",
    "            \"defaults_file\": \"data/defaults.yaml\",\n",
    "        }\n",
    "    }\n",
    ")\n",
    "\n",
    "result = nr.run(task=dummy_task)"
   ]
  },
  {
   "cell_type": "markdown",
   "id": "57e43930",
   "metadata": {},
   "source": [
    "Now we could write the results easily with the `write_results` function:"
   ]
  },
  {
   "cell_type": "code",
   "execution_count": 2,
   "id": "cb99b478",
   "metadata": {},
   "outputs": [
    {
     "data": {
      "text/plain": [
       "[('dev1.group_1',\n",
       "  '--- out_files/write_results/dev1.group_1\\n\\n+++ new\\n\\n@@ -0,0 +1,3 @@\\n\\n+---- dev1.group_1: dummy_task ** changed : False ------------------------------- INFO\\n+\\n+hi!!!'),\n",
       " ('dev2.group_1',\n",
       "  '--- out_files/write_results/dev2.group_1\\n\\n+++ new\\n\\n@@ -0,0 +1,3 @@\\n\\n+---- dev2.group_1: dummy_task ** changed : False ------------------------------- INFO\\n+\\n+hi!!!'),\n",
       " ('dev3.group_2',\n",
       "  '--- out_files/write_results/dev3.group_2\\n\\n+++ new\\n\\n@@ -0,0 +1,3 @@\\n\\n+---- dev3.group_2: dummy_task ** changed : False ------------------------------- INFO\\n+\\n+hi!!!'),\n",
       " ('dev4.group_2',\n",
       "  '--- out_files/write_results/dev4.group_2\\n\\n+++ new\\n\\n@@ -0,0 +1,3 @@\\n\\n+---- dev4.group_2: dummy_task ** changed : False ------------------------------- INFO\\n+\\n+hi!!!'),\n",
       " ('dev5.no_group',\n",
       "  '--- out_files/write_results/dev5.no_group\\n\\n+++ new\\n\\n@@ -0,0 +1,3 @@\\n\\n+---- dev5.no_group: dummy_task ** changed : False ------------------------------ INFO\\n+\\n+hi!!!')]"
      ]
     },
     "execution_count": 2,
     "metadata": {},
     "output_type": "execute_result"
    }
   ],
   "source": [
    "from nornir_utils.plugins.functions import write_results\n",
    "\n",
    "write_results(result, dirname=\"out_files/write_results\")"
   ]
  },
  {
   "cell_type": "markdown",
   "id": "22400576",
   "metadata": {},
   "source": [
    "```text\n",
    "$ ls out_files/write_results\n",
    "\n",
    "dev1.group_1  dev2.group_1  dev3.group_2  dev4.group_2\tdev5.no_group\n",
    "```"
   ]
  },
  {
   "cell_type": "markdown",
   "id": "942776f1",
   "metadata": {},
   "source": [
    "Let's look at the content of each file:"
   ]
  },
  {
   "cell_type": "code",
   "execution_count": 3,
   "id": "5227fd1e",
   "metadata": {},
   "outputs": [
    {
     "name": "stdout",
     "output_type": "stream",
     "text": [
      "\u001b[1mout_files/write_results/dev1.group_1\u001b[0;0m\u001b[0m\n",
      "\u001b[0m---- dev1.group_1: dummy_task ** changed : False ------------------------------- INFO\n",
      "\n",
      "hi!!!\u001b[0m\n",
      "\u001b[0m\u001b[1mout_files/write_results/dev2.group_1\u001b[0;0m\u001b[0m\n",
      "\u001b[0m---- dev2.group_1: dummy_task ** changed : False ------------------------------- INFO\n",
      "\n",
      "hi!!!\u001b[0m\n",
      "\u001b[0m\u001b[1mout_files/write_results/dev3.group_2\u001b[0;0m\u001b[0m\n",
      "\u001b[0m---- dev3.group_2: dummy_task ** changed : False ------------------------------- INFO\n",
      "\n",
      "hi!!!\u001b[0m\n",
      "\u001b[0m\u001b[1mout_files/write_results/dev4.group_2\u001b[0;0m\u001b[0m\n",
      "\u001b[0m---- dev4.group_2: dummy_task ** changed : False ------------------------------- INFO\n",
      "\n",
      "hi!!!\u001b[0m\n",
      "\u001b[0m\u001b[1mout_files/write_results/dev5.no_group\u001b[0;0m\u001b[0m\n",
      "\u001b[0m---- dev5.no_group: dummy_task ** changed : False ------------------------------ INFO\n",
      "\n",
      "hi!!!\u001b[0m\n",
      "\u001b[0m"
     ]
    }
   ],
   "source": [
    "import os\n",
    "\n",
    "dir_path = \"out_files/write_results/\"\n",
    "\n",
    "for filename in sorted(os.listdir(dir_path)):\n",
    "    file_path = dir_path + filename\n",
    "   \n",
    "    with open(file_path) as f:\n",
    "        print(\"\\033[1m\" + file_path + \"\\033[0;0m\", f.read(), sep='\\n')"
   ]
  },
  {
   "cell_type": "markdown",
   "id": "a1f86c3a",
   "metadata": {},
   "source": [
    "`dirname` here is path to directory, you want to write the results for each host. `write_results` creates directories from the path, if it's necessary."
   ]
  },
  {
   "cell_type": "markdown",
   "id": "c47e072f",
   "metadata": {},
   "source": [
    "## Diff\n",
    "\n",
    "As you can see, `write_results` returns list of tuples with hostname + diff between the previous and current file state:"
   ]
  },
  {
   "cell_type": "code",
   "execution_count": 4,
   "id": "14c221c4",
   "metadata": {},
   "outputs": [
    {
     "name": "stdout",
     "output_type": "stream",
     "text": [
      "[('dev1.group_1', '--- out_files/write_results/dev1.group_1\\n\\n+++ new\\n\\n@@ -0,0 +1,3 @@\\n\\n+---- dev1.group_1: smart_task ** changed : False ------------------------------- INFO\\n+\\n+hihi!!!'), ('dev2.group_1', '--- out_files/write_results/dev2.group_1\\n\\n+++ new\\n\\n@@ -0,0 +1,3 @@\\n\\n+---- dev2.group_1: smart_task ** changed : False ------------------------------- INFO\\n+\\n+hihi!!!'), ('dev3.group_2', '--- out_files/write_results/dev3.group_2\\n\\n+++ new\\n\\n@@ -0,0 +1,3 @@\\n\\n+---- dev3.group_2: smart_task ** changed : False ------------------------------- INFO\\n+\\n+hihi!!!'), ('dev4.group_2', '--- out_files/write_results/dev4.group_2\\n\\n+++ new\\n\\n@@ -0,0 +1,3 @@\\n\\n+---- dev4.group_2: smart_task ** changed : False ------------------------------- INFO\\n+\\n+hihi!!!'), ('dev5.no_group', '--- out_files/write_results/dev5.no_group\\n\\n+++ new\\n\\n@@ -0,0 +1,3 @@\\n\\n+---- dev5.no_group: smart_task ** changed : False ------------------------------ INFO\\n+\\n+hihi!!!')]\u001b[0m\n",
      "\u001b[0m"
     ]
    }
   ],
   "source": [
    "def smart_task(task):\n",
    "    return \"hihi!!!\"\n",
    "\n",
    "result = nr.run(task=smart_task)\n",
    "\n",
    "print(write_results(result, dirname=\"out_files/write_results\"))"
   ]
  },
  {
   "cell_type": "code",
   "execution_count": 5,
   "id": "d234c3c3",
   "metadata": {},
   "outputs": [
    {
     "name": "stdout",
     "output_type": "stream",
     "text": [
      "\u001b[1mout_files/write_results/dev1.group_1\u001b[0;0m\u001b[0m\n",
      "\u001b[0m---- dev1.group_1: smart_task ** changed : False ------------------------------- INFO\n",
      "\n",
      "hihi!!!\u001b[0m\n",
      "\u001b[0m\u001b[1mout_files/write_results/dev2.group_1\u001b[0;0m\u001b[0m\n",
      "\u001b[0m---- dev2.group_1: smart_task ** changed : False ------------------------------- INFO\n",
      "\n",
      "hihi!!!\u001b[0m\n",
      "\u001b[0m\u001b[1mout_files/write_results/dev3.group_2\u001b[0;0m\u001b[0m\n",
      "\u001b[0m---- dev3.group_2: smart_task ** changed : False ------------------------------- INFO\n",
      "\n",
      "hihi!!!\u001b[0m\n",
      "\u001b[0m\u001b[1mout_files/write_results/dev4.group_2\u001b[0;0m\u001b[0m\n",
      "\u001b[0m---- dev4.group_2: smart_task ** changed : False ------------------------------- INFO\n",
      "\n",
      "hihi!!!\u001b[0m\n",
      "\u001b[0m\u001b[1mout_files/write_results/dev5.no_group\u001b[0;0m\u001b[0m\n",
      "\u001b[0m---- dev5.no_group: smart_task ** changed : False ------------------------------ INFO\n",
      "\n",
      "hihi!!!\u001b[0m\n",
      "\u001b[0m"
     ]
    }
   ],
   "source": [
    "import os\n",
    "\n",
    "dir_path = \"out_files/write_results/\"\n",
    "\n",
    "for filename in sorted(os.listdir(dir_path)):\n",
    "    file_path = dir_path + filename\n",
    "   \n",
    "    with open(file_path) as f:\n",
    "        print(\"\\033[1m\" + file_path + \"\\033[0;0m\", f.read(), sep='\\n')"
   ]
  },
  {
   "cell_type": "markdown",
   "id": "231ce6f0",
   "metadata": {},
   "source": [
    "## Writing specific data\n",
    "\n",
    "If the task returns different information, you can also select which ones to write. For instance:"
   ]
  },
  {
   "cell_type": "code",
   "execution_count": 6,
   "id": "774eaef7",
   "metadata": {},
   "outputs": [],
   "source": [
    "from nornir.core.task import Result\n",
    "\n",
    "def task_with_data(task):\n",
    "    return Result(host=task.host, result=\"Spaghetti monster\", sw_char=\"Jar Jar Binks\", food=\"hawaiian pizza\", OS=\"windows\")\n",
    "\n",
    "\n",
    "fav_result = nr.run(task=task_with_data)\n",
    "\n",
    "# write only sw_char, food vars and write diff to diff variable \n",
    "diffs = write_results(fav_result, dirname=\"out_files/write_results\", vars=[\"sw_char\", \"food\"])"
   ]
  },
  {
   "cell_type": "code",
   "execution_count": 7,
   "id": "a1ac0f7f",
   "metadata": {},
   "outputs": [
    {
     "name": "stdout",
     "output_type": "stream",
     "text": [
      "\u001b[1mout_files/write_results/dev1.group_1\u001b[0;0m\u001b[0m\n",
      "\u001b[0m---- dev1.group_1: task_with_data ** changed : False --------------------------- INFO\n",
      "\n",
      "Jar Jar Binks\n",
      "\n",
      "hawaiian pizza\u001b[0m\n",
      "\u001b[0m\u001b[1mout_files/write_results/dev2.group_1\u001b[0;0m\u001b[0m\n",
      "\u001b[0m---- dev2.group_1: task_with_data ** changed : False --------------------------- INFO\n",
      "\n",
      "Jar Jar Binks\n",
      "\n",
      "hawaiian pizza\u001b[0m\n",
      "\u001b[0m\u001b[1mout_files/write_results/dev3.group_2\u001b[0;0m\u001b[0m\n",
      "\u001b[0m---- dev3.group_2: task_with_data ** changed : False --------------------------- INFO\n",
      "\n",
      "Jar Jar Binks\n",
      "\n",
      "hawaiian pizza\u001b[0m\n",
      "\u001b[0m\u001b[1mout_files/write_results/dev4.group_2\u001b[0;0m\u001b[0m\n",
      "\u001b[0m---- dev4.group_2: task_with_data ** changed : False --------------------------- INFO\n",
      "\n",
      "Jar Jar Binks\n",
      "\n",
      "hawaiian pizza\u001b[0m\n",
      "\u001b[0m\u001b[1mout_files/write_results/dev5.no_group\u001b[0;0m\u001b[0m\n",
      "\u001b[0m---- dev5.no_group: task_with_data ** changed : False -------------------------- INFO\n",
      "\n",
      "Jar Jar Binks\n",
      "\n",
      "hawaiian pizza\u001b[0m\n",
      "\u001b[0m"
     ]
    }
   ],
   "source": [
    "import os\n",
    "\n",
    "dir_path = \"out_files/write_results/\"\n",
    "\n",
    "for filename in sorted(os.listdir(dir_path)):\n",
    "    file_path = dir_path + filename\n",
    "   \n",
    "    with open(file_path) as f:\n",
    "        print(\"\\033[1m\" + file_path + \"\\033[0;0m\", f.read(), sep='\\n')"
   ]
  },
  {
   "cell_type": "markdown",
   "id": "568719c8",
   "metadata": {},
   "source": [
    "## Severity\n",
    "\n",
    "You can also ask `write_results` to write the results only if the severity is equal or superior to the one specified. This is particularly useful if your script is very large and you don't care about intermediate results. For instance:"
   ]
  },
  {
   "cell_type": "code",
   "execution_count": 8,
   "id": "6dd24ac3",
   "metadata": {},
   "outputs": [
    {
     "data": {
      "text/plain": [
       "AggregatedResult (complex_task): {'dev1.group_1': MultiResult: [Result: \"complex_task\", Result: \"dummy_task\", Result: \"dummy_task\", Result: \"dummy_task\", Result: \"dummy_task\", Result: \"dummy_task\"], 'dev2.group_1': MultiResult: [Result: \"complex_task\", Result: \"dummy_task\", Result: \"dummy_task\", Result: \"dummy_task\", Result: \"dummy_task\", Result: \"dummy_task\"], 'dev3.group_2': MultiResult: [Result: \"complex_task\", Result: \"dummy_task\", Result: \"dummy_task\", Result: \"dummy_task\", Result: \"dummy_task\", Result: \"dummy_task\"], 'dev4.group_2': MultiResult: [Result: \"complex_task\", Result: \"dummy_task\", Result: \"dummy_task\", Result: \"dummy_task\", Result: \"dummy_task\", Result: \"dummy_task\"], 'dev5.no_group': MultiResult: [Result: \"complex_task\", Result: \"dummy_task\", Result: \"dummy_task\", Result: \"dummy_task\", Result: \"dummy_task\", Result: \"dummy_task\"]}"
      ]
     },
     "execution_count": 8,
     "metadata": {},
     "output_type": "execute_result"
    }
   ],
   "source": [
    "import logging\n",
    "\n",
    "def complex_task(task):\n",
    "    task.run(task=dummy_task, severity_level=logging.DEBUG)\n",
    "    task.run(task=dummy_task, severity_level=logging.DEBUG)\n",
    "    task.run(task=dummy_task, severity_level=logging.DEBUG)\n",
    "    task.run(task=dummy_task, severity_level=logging.DEBUG)\n",
    "    task.run(task=dummy_task, severity_level=logging.DEBUG)\n",
    "    return \"I did a lot of things!!!\"\n",
    "\n",
    "complex_result = nr.run(task=complex_task)\n",
    "complex_result"
   ]
  },
  {
   "cell_type": "markdown",
   "id": "36d6d9c4",
   "metadata": {},
   "source": [
    "`write_results` will only write `INFO` severity and above by default so if we write the result we should only see the result of the parent task:"
   ]
  },
  {
   "cell_type": "code",
   "execution_count": 9,
   "id": "9d33d258",
   "metadata": {},
   "outputs": [],
   "source": [
    "diffs = write_results(complex_result, dirname=\"out_files/write_results\")"
   ]
  },
  {
   "cell_type": "code",
   "execution_count": 10,
   "id": "36f7b1c9",
   "metadata": {},
   "outputs": [
    {
     "name": "stdout",
     "output_type": "stream",
     "text": [
      "\u001b[1mout_files/write_results/dev1.group_1\u001b[0;0m\u001b[0m\n",
      "\u001b[0m---- dev1.group_1: complex_task ** changed : False ----------------------------- INFO\n",
      "\n",
      "I did a lot of things!!!\u001b[0m\n",
      "\u001b[0m\u001b[1mout_files/write_results/dev2.group_1\u001b[0;0m\u001b[0m\n",
      "\u001b[0m---- dev2.group_1: complex_task ** changed : False ----------------------------- INFO\n",
      "\n",
      "I did a lot of things!!!\u001b[0m\n",
      "\u001b[0m\u001b[1mout_files/write_results/dev3.group_2\u001b[0;0m\u001b[0m\n",
      "\u001b[0m---- dev3.group_2: complex_task ** changed : False ----------------------------- INFO\n",
      "\n",
      "I did a lot of things!!!\u001b[0m\n",
      "\u001b[0m\u001b[1mout_files/write_results/dev4.group_2\u001b[0;0m\u001b[0m\n",
      "\u001b[0m---- dev4.group_2: complex_task ** changed : False ----------------------------- INFO\n",
      "\n",
      "I did a lot of things!!!\u001b[0m\n",
      "\u001b[0m\u001b[1mout_files/write_results/dev5.no_group\u001b[0;0m\u001b[0m\n",
      "\u001b[0m---- dev5.no_group: complex_task ** changed : False ---------------------------- INFO\n",
      "\n",
      "I did a lot of things!!!\u001b[0m\n",
      "\u001b[0m"
     ]
    }
   ],
   "source": [
    "import os\n",
    "\n",
    "dir_path = \"out_files/write_results/\"\n",
    "\n",
    "for filename in sorted(os.listdir(dir_path)):\n",
    "    file_path = dir_path + filename\n",
    "   \n",
    "    with open(file_path) as f:\n",
    "        print(\"\\033[1m\" + file_path + \"\\033[0;0m\", f.read(), sep='\\n')"
   ]
  },
  {
   "cell_type": "markdown",
   "id": "86998af3",
   "metadata": {},
   "source": [
    "If you wanted to write all the tasks for debugging purposes you could specify it with:"
   ]
  },
  {
   "cell_type": "code",
   "execution_count": 11,
   "id": "f9c380ae",
   "metadata": {},
   "outputs": [],
   "source": [
    "diffs = write_results(complex_result, dirname=\"out_files/write_results\", severity_level=logging.DEBUG)"
   ]
  },
  {
   "cell_type": "code",
   "execution_count": 12,
   "id": "3801974b",
   "metadata": {},
   "outputs": [
    {
     "name": "stdout",
     "output_type": "stream",
     "text": [
      "\u001b[1mout_files/write_results/dev1.group_1\u001b[0;0m\u001b[0m\n",
      "\u001b[0m---- dev1.group_1: complex_task ** changed : False ----------------------------- INFO\n",
      "\n",
      "I did a lot of things!!!\n",
      "\n",
      "---- dev1.group_1: dummy_task ** changed : False ------------------------------- DEBUG\n",
      "\n",
      "hi!!!\n",
      "\n",
      "---- dev1.group_1: dummy_task ** changed : False ------------------------------- DEBUG\n",
      "\n",
      "hi!!!\n",
      "\n",
      "---- dev1.group_1: dummy_task ** changed : False ------------------------------- DEBUG\n",
      "\n",
      "hi!!!\n",
      "\n",
      "---- dev1.group_1: dummy_task ** changed : False ------------------------------- DEBUG\n",
      "\n",
      "hi!!!\n",
      "\n",
      "---- dev1.group_1: dummy_task ** changed : False ------------------------------- DEBUG\n",
      "\n",
      "hi!!!\u001b[0m\n",
      "\u001b[0m\u001b[1mout_files/write_results/dev2.group_1\u001b[0;0m\u001b[0m\n",
      "\u001b[0m---- dev2.group_1: complex_task ** changed : False ----------------------------- INFO\n",
      "\n",
      "I did a lot of things!!!\n",
      "\n",
      "---- dev2.group_1: dummy_task ** changed : False ------------------------------- DEBUG\n",
      "\n",
      "hi!!!\n",
      "\n",
      "---- dev2.group_1: dummy_task ** changed : False ------------------------------- DEBUG\n",
      "\n",
      "hi!!!\n",
      "\n",
      "---- dev2.group_1: dummy_task ** changed : False ------------------------------- DEBUG\n",
      "\n",
      "hi!!!\n",
      "\n",
      "---- dev2.group_1: dummy_task ** changed : False ------------------------------- DEBUG\n",
      "\n",
      "hi!!!\n",
      "\n",
      "---- dev2.group_1: dummy_task ** changed : False ------------------------------- DEBUG\n",
      "\n",
      "hi!!!\u001b[0m\n",
      "\u001b[0m\u001b[1mout_files/write_results/dev3.group_2\u001b[0;0m\u001b[0m\n",
      "\u001b[0m---- dev3.group_2: complex_task ** changed : False ----------------------------- INFO\n",
      "\n",
      "I did a lot of things!!!\n",
      "\n",
      "---- dev3.group_2: dummy_task ** changed : False ------------------------------- DEBUG\n",
      "\n",
      "hi!!!\n",
      "\n",
      "---- dev3.group_2: dummy_task ** changed : False ------------------------------- DEBUG\n",
      "\n",
      "hi!!!\n",
      "\n",
      "---- dev3.group_2: dummy_task ** changed : False ------------------------------- DEBUG\n",
      "\n",
      "hi!!!\n",
      "\n",
      "---- dev3.group_2: dummy_task ** changed : False ------------------------------- DEBUG\n",
      "\n",
      "hi!!!\n",
      "\n",
      "---- dev3.group_2: dummy_task ** changed : False ------------------------------- DEBUG\n",
      "\n",
      "hi!!!\u001b[0m\n",
      "\u001b[0m\u001b[1mout_files/write_results/dev4.group_2\u001b[0;0m\u001b[0m\n",
      "\u001b[0m---- dev4.group_2: complex_task ** changed : False ----------------------------- INFO\n",
      "\n",
      "I did a lot of things!!!\n",
      "\n",
      "---- dev4.group_2: dummy_task ** changed : False ------------------------------- DEBUG\n",
      "\n",
      "hi!!!\n",
      "\n",
      "---- dev4.group_2: dummy_task ** changed : False ------------------------------- DEBUG\n",
      "\n",
      "hi!!!\n",
      "\n",
      "---- dev4.group_2: dummy_task ** changed : False ------------------------------- DEBUG\n",
      "\n",
      "hi!!!\n",
      "\n",
      "---- dev4.group_2: dummy_task ** changed : False ------------------------------- DEBUG\n",
      "\n",
      "hi!!!\n",
      "\n",
      "---- dev4.group_2: dummy_task ** changed : False ------------------------------- DEBUG\n",
      "\n",
      "hi!!!\u001b[0m\n",
      "\u001b[0m\u001b[1mout_files/write_results/dev5.no_group\u001b[0;0m\u001b[0m\n",
      "\u001b[0m---- dev5.no_group: complex_task ** changed : False ---------------------------- INFO\n",
      "\n",
      "I did a lot of things!!!\n",
      "\n",
      "---- dev5.no_group: dummy_task ** changed : False ------------------------------ DEBUG\n",
      "\n",
      "hi!!!\n",
      "\n",
      "---- dev5.no_group: dummy_task ** changed : False ------------------------------ DEBUG\n",
      "\n",
      "hi!!!\n",
      "\n",
      "---- dev5.no_group: dummy_task ** changed : False ------------------------------ DEBUG\n",
      "\n",
      "hi!!!\n",
      "\n",
      "---- dev5.no_group: dummy_task ** changed : False ------------------------------ DEBUG\n",
      "\n",
      "hi!!!\n",
      "\n",
      "---- dev5.no_group: dummy_task ** changed : False ------------------------------ DEBUG\n",
      "\n",
      "hi!!!\u001b[0m\n",
      "\u001b[0m"
     ]
    }
   ],
   "source": [
    "import os\n",
    "\n",
    "dir_path = \"out_files/write_results/\"\n",
    "\n",
    "for filename in sorted(os.listdir(dir_path)):\n",
    "    file_path = dir_path + filename\n",
    "   \n",
    "    with open(file_path) as f:\n",
    "        print(\"\\033[1m\" + file_path + \"\\033[0;0m\", f.read(), sep='\\n')"
   ]
  },
  {
   "cell_type": "markdown",
   "id": "44d096ef",
   "metadata": {},
   "source": [
    "## Write host\n",
    "\n",
    "`write_host` argument can help you, if you don't need to write hostnames to files:"
   ]
  },
  {
   "cell_type": "code",
   "execution_count": 13,
   "id": "fb93e599",
   "metadata": {},
   "outputs": [],
   "source": [
    "diff = write_results(result, dirname=\"out_files/write_results\", write_host=False)"
   ]
  },
  {
   "cell_type": "code",
   "execution_count": 14,
   "id": "1675db9a",
   "metadata": {},
   "outputs": [
    {
     "name": "stdout",
     "output_type": "stream",
     "text": [
      "\u001b[1mout_files/write_results/dev1.group_1\u001b[0;0m\u001b[0m\n",
      "\u001b[0m---- smart_task ** changed : False --------------------------------------------- INFO\n",
      "\n",
      "hihi!!!\u001b[0m\n",
      "\u001b[0m\u001b[1mout_files/write_results/dev2.group_1\u001b[0;0m\u001b[0m\n",
      "\u001b[0m---- smart_task ** changed : False --------------------------------------------- INFO\n",
      "\n",
      "hihi!!!\u001b[0m\n",
      "\u001b[0m\u001b[1mout_files/write_results/dev3.group_2\u001b[0;0m\u001b[0m\n",
      "\u001b[0m---- smart_task ** changed : False --------------------------------------------- INFO\n",
      "\n",
      "hihi!!!\u001b[0m\n",
      "\u001b[0m\u001b[1mout_files/write_results/dev4.group_2\u001b[0;0m\u001b[0m\n",
      "\u001b[0m---- smart_task ** changed : False --------------------------------------------- INFO\n",
      "\n",
      "hihi!!!\u001b[0m\n",
      "\u001b[0m\u001b[1mout_files/write_results/dev5.no_group\u001b[0;0m\u001b[0m\n",
      "\u001b[0m---- smart_task ** changed : False --------------------------------------------- INFO\n",
      "\n",
      "hihi!!!\u001b[0m\n",
      "\u001b[0m"
     ]
    }
   ],
   "source": [
    "import os\n",
    "\n",
    "dir_path = \"out_files/write_results/\"\n",
    "\n",
    "for filename in sorted(os.listdir(dir_path)):\n",
    "    file_path = dir_path + filename\n",
    "   \n",
    "    with open(file_path) as f:\n",
    "        print(\"\\033[1m\" + file_path + \"\\033[0;0m\", f.read(), sep='\\n')"
   ]
  },
  {
   "cell_type": "markdown",
   "id": "34a824f1",
   "metadata": {},
   "source": [
    "## Append\n",
    "\n",
    "`append` argument allows you to use `a+` or `w+` (default mode) writing mode. As instance:"
   ]
  },
  {
   "cell_type": "code",
   "execution_count": 15,
   "id": "62cbce4a",
   "metadata": {},
   "outputs": [],
   "source": [
    "diffs = write_results(fav_result, dirname=\"out_files/write_results\", append=True)"
   ]
  },
  {
   "cell_type": "code",
   "execution_count": 16,
   "id": "77bfdfba",
   "metadata": {},
   "outputs": [
    {
     "name": "stdout",
     "output_type": "stream",
     "text": [
      "\u001b[1mout_files/write_results/dev1.group_1\u001b[0;0m\u001b[0m\n",
      "\u001b[0m---- smart_task ** changed : False --------------------------------------------- INFO\n",
      "\n",
      "hihi!!!\n",
      "\n",
      "---- dev1.group_1: task_with_data ** changed : False --------------------------- INFO\n",
      "\n",
      "Spaghetti monster\u001b[0m\n",
      "\u001b[0m\u001b[1mout_files/write_results/dev2.group_1\u001b[0;0m\u001b[0m\n",
      "\u001b[0m---- smart_task ** changed : False --------------------------------------------- INFO\n",
      "\n",
      "hihi!!!\n",
      "\n",
      "---- dev2.group_1: task_with_data ** changed : False --------------------------- INFO\n",
      "\n",
      "Spaghetti monster\u001b[0m\n",
      "\u001b[0m\u001b[1mout_files/write_results/dev3.group_2\u001b[0;0m\u001b[0m\n",
      "\u001b[0m---- smart_task ** changed : False --------------------------------------------- INFO\n",
      "\n",
      "hihi!!!\n",
      "\n",
      "---- dev3.group_2: task_with_data ** changed : False --------------------------- INFO\n",
      "\n",
      "Spaghetti monster\u001b[0m\n",
      "\u001b[0m\u001b[1mout_files/write_results/dev4.group_2\u001b[0;0m\u001b[0m\n",
      "\u001b[0m---- smart_task ** changed : False --------------------------------------------- INFO\n",
      "\n",
      "hihi!!!\n",
      "\n",
      "---- dev4.group_2: task_with_data ** changed : False --------------------------- INFO\n",
      "\n",
      "Spaghetti monster\u001b[0m\n",
      "\u001b[0m\u001b[1mout_files/write_results/dev5.no_group\u001b[0;0m\u001b[0m\n",
      "\u001b[0m---- smart_task ** changed : False --------------------------------------------- INFO\n",
      "\n",
      "hihi!!!\n",
      "\n",
      "---- dev5.no_group: task_with_data ** changed : False -------------------------- INFO\n",
      "\n",
      "Spaghetti monster\u001b[0m\n",
      "\u001b[0m"
     ]
    }
   ],
   "source": [
    "import os\n",
    "\n",
    "dir_path = \"out_files/write_results/\"\n",
    "\n",
    "for filename in sorted(os.listdir(dir_path)):\n",
    "    file_path = dir_path + filename\n",
    "   \n",
    "    with open(file_path) as f:\n",
    "        print(\"\\033[1m\" + file_path + \"\\033[0;0m\", f.read(), sep='\\n')"
   ]
  },
  {
   "cell_type": "markdown",
   "id": "57f5b76d",
   "metadata": {},
   "source": [
    "# No errors\n",
    "\n",
    "Don't write errors to files with `no_errors` argument. As instance:"
   ]
  },
  {
   "cell_type": "code",
   "execution_count": 17,
   "id": "c9d3a814",
   "metadata": {},
   "outputs": [],
   "source": [
    "def task_with_exception(task):\n",
    "    return Result(host=task.host, result=\"Something went wrong\", exception=Exception())\n",
    "\n",
    "\n",
    "def task_without_exception(task):\n",
    "    return \"All is fine\"\n",
    "\n",
    "def task(task):\n",
    "    task.run(task=task_with_exception)\n",
    "    task.run(task=task_without_exception)\n",
    "    return \"What's happening?\"\n",
    "\n",
    "    \n",
    "result_with_exception = nr.run(task=task)\n",
    "\n",
    "diffs = write_results(result_with_exception, dirname=\"out_files/write_results\")"
   ]
  },
  {
   "cell_type": "code",
   "execution_count": 18,
   "id": "85ecda49",
   "metadata": {},
   "outputs": [
    {
     "name": "stdout",
     "output_type": "stream",
     "text": [
      "\u001b[1mout_files/write_results/dev1.group_1\u001b[0;0m\u001b[0m\n",
      "\u001b[0m---- dev1.group_1: task ** changed : False ------------------------------------- INFO\n",
      "\n",
      "What's happening?\n",
      "\n",
      "---- dev1.group_1: task_with_exception ** changed : False ---------------------- INFO\n",
      "\n",
      "Something went wrong\n",
      "\n",
      "---- dev1.group_1: task_without_exception ** changed : False ------------------- INFO\n",
      "\n",
      "All is fine\u001b[0m\n",
      "\u001b[0m\u001b[1mout_files/write_results/dev2.group_1\u001b[0;0m\u001b[0m\n",
      "\u001b[0m---- dev2.group_1: task ** changed : False ------------------------------------- INFO\n",
      "\n",
      "What's happening?\n",
      "\n",
      "---- dev2.group_1: task_with_exception ** changed : False ---------------------- INFO\n",
      "\n",
      "Something went wrong\n",
      "\n",
      "---- dev2.group_1: task_without_exception ** changed : False ------------------- INFO\n",
      "\n",
      "All is fine\u001b[0m\n",
      "\u001b[0m\u001b[1mout_files/write_results/dev3.group_2\u001b[0;0m\u001b[0m\n",
      "\u001b[0m---- dev3.group_2: task ** changed : False ------------------------------------- INFO\n",
      "\n",
      "What's happening?\n",
      "\n",
      "---- dev3.group_2: task_with_exception ** changed : False ---------------------- INFO\n",
      "\n",
      "Something went wrong\n",
      "\n",
      "---- dev3.group_2: task_without_exception ** changed : False ------------------- INFO\n",
      "\n",
      "All is fine\u001b[0m\n",
      "\u001b[0m\u001b[1mout_files/write_results/dev4.group_2\u001b[0;0m\u001b[0m\n",
      "\u001b[0m---- dev4.group_2: task ** changed : False ------------------------------------- INFO\n",
      "\n",
      "What's happening?\n",
      "\n",
      "---- dev4.group_2: task_with_exception ** changed : False ---------------------- INFO\n",
      "\n",
      "Something went wrong\n",
      "\n",
      "---- dev4.group_2: task_without_exception ** changed : False ------------------- INFO\n",
      "\n",
      "All is fine\u001b[0m\n",
      "\u001b[0m\u001b[1mout_files/write_results/dev5.no_group\u001b[0;0m\u001b[0m\n",
      "\u001b[0m---- dev5.no_group: task ** changed : False ------------------------------------ INFO\n",
      "\n",
      "What's happening?\n",
      "\n",
      "---- dev5.no_group: task_with_exception ** changed : False --------------------- INFO\n",
      "\n",
      "Something went wrong\n",
      "\n",
      "---- dev5.no_group: task_without_exception ** changed : False ------------------ INFO\n",
      "\n",
      "All is fine\u001b[0m\n",
      "\u001b[0m"
     ]
    }
   ],
   "source": [
    "import os\n",
    "\n",
    "dir_path = \"out_files/write_results/\"\n",
    "\n",
    "for filename in sorted(os.listdir(dir_path)):\n",
    "    file_path = dir_path + filename\n",
    "   \n",
    "    with open(file_path) as f:\n",
    "        print(\"\\033[1m\" + file_path + \"\\033[0;0m\", f.read(), sep='\\n')"
   ]
  },
  {
   "cell_type": "code",
   "execution_count": 19,
   "id": "4cdc3d01",
   "metadata": {},
   "outputs": [],
   "source": [
    "diffs = write_results(result_with_exception, dirname=\"out_files/write_results\", no_errors=True)"
   ]
  },
  {
   "cell_type": "code",
   "execution_count": 20,
   "id": "391948d1",
   "metadata": {},
   "outputs": [
    {
     "name": "stdout",
     "output_type": "stream",
     "text": [
      "\u001b[1mout_files/write_results/dev1.group_1\u001b[0;0m\u001b[0m\n",
      "\u001b[0m---- dev1.group_1: task ** changed : False ------------------------------------- INFO\n",
      "\n",
      "What's happening?\n",
      "\n",
      "---- dev1.group_1: task_without_exception ** changed : False ------------------- INFO\n",
      "\n",
      "All is fine\u001b[0m\n",
      "\u001b[0m\u001b[1mout_files/write_results/dev2.group_1\u001b[0;0m\u001b[0m\n",
      "\u001b[0m---- dev2.group_1: task ** changed : False ------------------------------------- INFO\n",
      "\n",
      "What's happening?\n",
      "\n",
      "---- dev2.group_1: task_without_exception ** changed : False ------------------- INFO\n",
      "\n",
      "All is fine\u001b[0m\n",
      "\u001b[0m\u001b[1mout_files/write_results/dev3.group_2\u001b[0;0m\u001b[0m\n",
      "\u001b[0m---- dev3.group_2: task ** changed : False ------------------------------------- INFO\n",
      "\n",
      "What's happening?\n",
      "\n",
      "---- dev3.group_2: task_without_exception ** changed : False ------------------- INFO\n",
      "\n",
      "All is fine\u001b[0m\n",
      "\u001b[0m\u001b[1mout_files/write_results/dev4.group_2\u001b[0;0m\u001b[0m\n",
      "\u001b[0m---- dev4.group_2: task ** changed : False ------------------------------------- INFO\n",
      "\n",
      "What's happening?\n",
      "\n",
      "---- dev4.group_2: task_without_exception ** changed : False ------------------- INFO\n",
      "\n",
      "All is fine\u001b[0m\n",
      "\u001b[0m\u001b[1mout_files/write_results/dev5.no_group\u001b[0;0m\u001b[0m\n",
      "\u001b[0m---- dev5.no_group: task ** changed : False ------------------------------------ INFO\n",
      "\n",
      "What's happening?\n",
      "\n",
      "---- dev5.no_group: task_without_exception ** changed : False ------------------ INFO\n",
      "\n",
      "All is fine\u001b[0m\n",
      "\u001b[0m"
     ]
    }
   ],
   "source": [
    "import os\n",
    "\n",
    "dir_path = \"out_files/write_results/\"\n",
    "\n",
    "for filename in sorted(os.listdir(dir_path)):\n",
    "    file_path = dir_path + filename\n",
    "   \n",
    "    with open(file_path) as f:\n",
    "        print(\"\\033[1m\" + file_path + \"\\033[0;0m\", f.read(), sep='\\n')"
   ]
  }
 ],
 "metadata": {
  "kernelspec": {
   "display_name": "Python 3",
   "language": "python",
   "name": "python3"
  },
  "language_info": {
   "codemirror_mode": {
    "name": "ipython",
    "version": 3
   },
   "file_extension": ".py",
   "mimetype": "text/x-python",
   "name": "python",
   "nbconvert_exporter": "python",
   "pygments_lexer": "ipython3",
   "version": "3.9.5"
  }
 },
 "nbformat": 4,
 "nbformat_minor": 5
}
