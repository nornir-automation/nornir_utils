{
 "cells": [
  {
   "cell_type": "markdown",
   "id": "2d2c17c5",
   "metadata": {},
   "source": [
    "# functions: write_results\n",
    "\n",
    "[write_results](../api/functions.rst#nornir_utils.plugins.functions.write_results) is a function that writes result to files with hostname names. This function is based on [print_result](../api/functions.rst#nornir_utils.plugins.functions.print_result) function with `file` argument:"
   ]
  },
  {
   "cell_type": "code",
   "execution_count": 1,
   "id": "03a00337",
   "metadata": {},
   "outputs": [],
   "source": [
    "from nornir import InitNornir\n",
    "\n",
    "def dummy_task(task):\n",
    "    return \"hi!!!\"\n",
    "\n",
    "nr = InitNornir(\n",
    "    inventory={\n",
    "        \"plugin\":\"YAMLInventory\",\n",
    "        \"options\": {\n",
    "            \"host_file\": \"data/hosts.yaml\",\n",
    "            \"group_file\": \"data/groups.yaml\",\n",
    "            \"defaults_file\": \"data/defaults.yaml\",\n",
    "        }\n",
    "    }\n",
    ")\n",
    "\n",
    "result = nr.run(task=dummy_task)"
   ]
  },
  {
   "cell_type": "markdown",
   "id": "57e43930",
   "metadata": {},
   "source": [
    "Now we could write the results easily with the `write_results` function:"
   ]
  },
  {
   "cell_type": "code",
   "execution_count": 2,
   "id": "cb99b478",
   "metadata": {},
   "outputs": [],
   "source": [
    "from nornir_utils.plugins.functions import write_results\n",
    "\n",
    "write_results(result, dirpath=\"out_files/write_results\")"
   ]
  },
  {
   "cell_type": "markdown",
   "id": "22400576",
   "metadata": {},
   "source": [
    "```text\n",
    "$ ls out_files/write_results\n",
    "\n",
    "dev1.group_1  dev2.group_1  dev3.group_2  dev4.group_2\tdev5.no_group\n",
    "```"
   ]
  },
  {
   "cell_type": "markdown",
   "id": "942776f1",
   "metadata": {},
   "source": [
    "Let's look at the content of each file:"
   ]
  },
  {
   "cell_type": "code",
   "execution_count": 3,
   "id": "5227fd1e",
   "metadata": {},
   "outputs": [
    {
     "name": "stdout",
     "output_type": "stream",
     "text": [
      "\u001b[1mout_files/write_results/dev1.group_1\u001b[0;0m\u001b[0m\u001b[0m\u001b[0m\n",
      "\u001b[0m\u001b[0m\u001b[0mdummy_task**********************************************************************\n",
      "* dev1.group_1 ** changed : False **********************************************\n",
      "vvvv dummy_task ** changed : False vvvvvvvvvvvvvvvvvvvvvvvvvvvvvvvvvvvvvvvvvvvvv INFO\n",
      "hi!!!\n",
      "^^^^ END dummy_task ^^^^^^^^^^^^^^^^^^^^^^^^^^^^^^^^^^^^^^^^^^^^^^^^^^^^^^^^^^^^\n",
      "\u001b[0m\u001b[0m\u001b[0m\n",
      "\u001b[0m\u001b[0m\u001b[0m\u001b[1mout_files/write_results/dev2.group_1\u001b[0;0m\u001b[0m\u001b[0m\u001b[0m\n",
      "\u001b[0m\u001b[0m\u001b[0mdummy_task**********************************************************************\n",
      "* dev2.group_1 ** changed : False **********************************************\n",
      "vvvv dummy_task ** changed : False vvvvvvvvvvvvvvvvvvvvvvvvvvvvvvvvvvvvvvvvvvvvv INFO\n",
      "hi!!!\n",
      "^^^^ END dummy_task ^^^^^^^^^^^^^^^^^^^^^^^^^^^^^^^^^^^^^^^^^^^^^^^^^^^^^^^^^^^^\n",
      "\u001b[0m\u001b[0m\u001b[0m\n",
      "\u001b[0m\u001b[0m\u001b[0m\u001b[1mout_files/write_results/dev3.group_2\u001b[0;0m\u001b[0m\u001b[0m\u001b[0m\n",
      "\u001b[0m\u001b[0m\u001b[0mdummy_task**********************************************************************\n",
      "* dev3.group_2 ** changed : False **********************************************\n",
      "vvvv dummy_task ** changed : False vvvvvvvvvvvvvvvvvvvvvvvvvvvvvvvvvvvvvvvvvvvvv INFO\n",
      "hi!!!\n",
      "^^^^ END dummy_task ^^^^^^^^^^^^^^^^^^^^^^^^^^^^^^^^^^^^^^^^^^^^^^^^^^^^^^^^^^^^\n",
      "\u001b[0m\u001b[0m\u001b[0m\n",
      "\u001b[0m\u001b[0m\u001b[0m\u001b[1mout_files/write_results/dev4.group_2\u001b[0;0m\u001b[0m\u001b[0m\u001b[0m\n",
      "\u001b[0m\u001b[0m\u001b[0mdummy_task**********************************************************************\n",
      "* dev4.group_2 ** changed : False **********************************************\n",
      "vvvv dummy_task ** changed : False vvvvvvvvvvvvvvvvvvvvvvvvvvvvvvvvvvvvvvvvvvvvv INFO\n",
      "hi!!!\n",
      "^^^^ END dummy_task ^^^^^^^^^^^^^^^^^^^^^^^^^^^^^^^^^^^^^^^^^^^^^^^^^^^^^^^^^^^^\n",
      "\u001b[0m\u001b[0m\u001b[0m\n",
      "\u001b[0m\u001b[0m\u001b[0m\u001b[1mout_files/write_results/dev5.no_group\u001b[0;0m\u001b[0m\u001b[0m\u001b[0m\n",
      "\u001b[0m\u001b[0m\u001b[0mdummy_task**********************************************************************\n",
      "* dev5.no_group ** changed : False *********************************************\n",
      "vvvv dummy_task ** changed : False vvvvvvvvvvvvvvvvvvvvvvvvvvvvvvvvvvvvvvvvvvvvv INFO\n",
      "hi!!!\n",
      "^^^^ END dummy_task ^^^^^^^^^^^^^^^^^^^^^^^^^^^^^^^^^^^^^^^^^^^^^^^^^^^^^^^^^^^^\n",
      "\u001b[0m\u001b[0m\u001b[0m\n",
      "\u001b[0m\u001b[0m\u001b[0m"
     ]
    }
   ],
   "source": [
    "import os\n",
    "\n",
    "dir_path = \"out_files/write_results/\"\n",
    "\n",
    "for filename in sorted(os.listdir(dir_path)):\n",
    "    file_path = dir_path + filename\n",
    "   \n",
    "    with open(file_path) as f:\n",
    "        print(\"\\033[1m\" + file_path + \"\\033[0;0m\", f.read(), sep='\\n')"
   ]
  },
  {
   "cell_type": "markdown",
   "id": "a1f86c3a",
   "metadata": {},
   "source": [
    "`dirpath` here is path to directory, you want to write the results for each host. Any missing directories from the `dirpath` argument are created as needed."
   ]
  },
  {
   "cell_type": "markdown",
   "id": "231ce6f0",
   "metadata": {},
   "source": [
    "## Writing specific data\n",
    "\n",
    "If the task returns different information, you can also select which ones to write. For instance:"
   ]
  },
  {
   "cell_type": "code",
   "execution_count": 4,
   "id": "774eaef7",
   "metadata": {},
   "outputs": [],
   "source": [
    "from nornir.core.task import Result\n",
    "\n",
    "def task_with_data(task):\n",
    "    return Result(host=task.host, result=\"Spaghetti monster\", sw_char=\"Jar Jar Binks\", food=\"hawaiian pizza\", OS=\"windows\")\n",
    "\n",
    "\n",
    "fav_result = nr.run(task=task_with_data)\n",
    "\n",
    "# write only sw_char and food vars\n",
    "write_results(fav_result, dirpath=\"out_files/write_results\", vars=[\"sw_char\", \"food\"])"
   ]
  },
  {
   "cell_type": "code",
   "execution_count": 5,
   "id": "a1ac0f7f",
   "metadata": {},
   "outputs": [
    {
     "name": "stdout",
     "output_type": "stream",
     "text": [
      "\u001b[1mout_files/write_results/dev1.group_1\u001b[0;0m\u001b[0m\u001b[0m\u001b[0m\n",
      "\u001b[0m\u001b[0m\u001b[0mtask_with_data******************************************************************\n",
      "* dev1.group_1 ** changed : False **********************************************\n",
      "vvvv task_with_data ** changed : False vvvvvvvvvvvvvvvvvvvvvvvvvvvvvvvvvvvvvvvvv INFO\n",
      "Jar Jar Binks\n",
      "hawaiian pizza\n",
      "^^^^ END task_with_data ^^^^^^^^^^^^^^^^^^^^^^^^^^^^^^^^^^^^^^^^^^^^^^^^^^^^^^^^\n",
      "\u001b[0m\u001b[0m\u001b[0m\n",
      "\u001b[0m\u001b[0m\u001b[0m\u001b[1mout_files/write_results/dev2.group_1\u001b[0;0m\u001b[0m\u001b[0m\u001b[0m\n",
      "\u001b[0m\u001b[0m\u001b[0mtask_with_data******************************************************************\n",
      "* dev2.group_1 ** changed : False **********************************************\n",
      "vvvv task_with_data ** changed : False vvvvvvvvvvvvvvvvvvvvvvvvvvvvvvvvvvvvvvvvv INFO\n",
      "Jar Jar Binks\n",
      "hawaiian pizza\n",
      "^^^^ END task_with_data ^^^^^^^^^^^^^^^^^^^^^^^^^^^^^^^^^^^^^^^^^^^^^^^^^^^^^^^^\n",
      "\u001b[0m\u001b[0m\u001b[0m\n",
      "\u001b[0m\u001b[0m\u001b[0m\u001b[1mout_files/write_results/dev3.group_2\u001b[0;0m\u001b[0m\u001b[0m\u001b[0m\n",
      "\u001b[0m\u001b[0m\u001b[0mtask_with_data******************************************************************\n",
      "* dev3.group_2 ** changed : False **********************************************\n",
      "vvvv task_with_data ** changed : False vvvvvvvvvvvvvvvvvvvvvvvvvvvvvvvvvvvvvvvvv INFO\n",
      "Jar Jar Binks\n",
      "hawaiian pizza\n",
      "^^^^ END task_with_data ^^^^^^^^^^^^^^^^^^^^^^^^^^^^^^^^^^^^^^^^^^^^^^^^^^^^^^^^\n",
      "\u001b[0m\u001b[0m\u001b[0m\n",
      "\u001b[0m\u001b[0m\u001b[0m\u001b[1mout_files/write_results/dev4.group_2\u001b[0;0m\u001b[0m\u001b[0m\u001b[0m\n",
      "\u001b[0m\u001b[0m\u001b[0mtask_with_data******************************************************************\n",
      "* dev4.group_2 ** changed : False **********************************************\n",
      "vvvv task_with_data ** changed : False vvvvvvvvvvvvvvvvvvvvvvvvvvvvvvvvvvvvvvvvv INFO\n",
      "Jar Jar Binks\n",
      "hawaiian pizza\n",
      "^^^^ END task_with_data ^^^^^^^^^^^^^^^^^^^^^^^^^^^^^^^^^^^^^^^^^^^^^^^^^^^^^^^^\n",
      "\u001b[0m\u001b[0m\u001b[0m\n",
      "\u001b[0m\u001b[0m\u001b[0m\u001b[1mout_files/write_results/dev5.no_group\u001b[0;0m\u001b[0m\u001b[0m\u001b[0m\n",
      "\u001b[0m\u001b[0m\u001b[0mtask_with_data******************************************************************\n",
      "* dev5.no_group ** changed : False *********************************************\n",
      "vvvv task_with_data ** changed : False vvvvvvvvvvvvvvvvvvvvvvvvvvvvvvvvvvvvvvvvv INFO\n",
      "Jar Jar Binks\n",
      "hawaiian pizza\n",
      "^^^^ END task_with_data ^^^^^^^^^^^^^^^^^^^^^^^^^^^^^^^^^^^^^^^^^^^^^^^^^^^^^^^^\n",
      "\u001b[0m\u001b[0m\u001b[0m\n",
      "\u001b[0m\u001b[0m\u001b[0m"
     ]
    }
   ],
   "source": [
    "for filename in sorted(os.listdir(dir_path)):\n",
    "    file_path = dir_path + filename\n",
    "   \n",
    "    with open(file_path) as f:\n",
    "        print(\"\\033[1m\" + file_path + \"\\033[0;0m\", f.read(), sep='\\n')"
   ]
  },
  {
   "cell_type": "markdown",
   "id": "568719c8",
   "metadata": {},
   "source": [
    "## Severity\n",
    "\n",
    "You can also ask `write_results` to write the results only if the severity is equal or superior to the one specified. This is particularly useful if your script is very large and you don't care about intermediate results. For instance:"
   ]
  },
  {
   "cell_type": "code",
   "execution_count": 6,
   "id": "6dd24ac3",
   "metadata": {},
   "outputs": [
    {
     "data": {
      "text/plain": [
       "AggregatedResult (complex_task): {'dev1.group_1': MultiResult: [Result: \"complex_task\", Result: \"dummy_task\", Result: \"dummy_task\", Result: \"dummy_task\", Result: \"dummy_task\", Result: \"dummy_task\"], 'dev2.group_1': MultiResult: [Result: \"complex_task\", Result: \"dummy_task\", Result: \"dummy_task\", Result: \"dummy_task\", Result: \"dummy_task\", Result: \"dummy_task\"], 'dev3.group_2': MultiResult: [Result: \"complex_task\", Result: \"dummy_task\", Result: \"dummy_task\", Result: \"dummy_task\", Result: \"dummy_task\", Result: \"dummy_task\"], 'dev4.group_2': MultiResult: [Result: \"complex_task\", Result: \"dummy_task\", Result: \"dummy_task\", Result: \"dummy_task\", Result: \"dummy_task\", Result: \"dummy_task\"], 'dev5.no_group': MultiResult: [Result: \"complex_task\", Result: \"dummy_task\", Result: \"dummy_task\", Result: \"dummy_task\", Result: \"dummy_task\", Result: \"dummy_task\"]}"
      ]
     },
     "execution_count": 6,
     "metadata": {},
     "output_type": "execute_result"
    }
   ],
   "source": [
    "import logging\n",
    "\n",
    "def complex_task(task):\n",
    "    task.run(task=dummy_task, severity_level=logging.DEBUG)\n",
    "    task.run(task=dummy_task, severity_level=logging.DEBUG)\n",
    "    task.run(task=dummy_task, severity_level=logging.DEBUG)\n",
    "    task.run(task=dummy_task, severity_level=logging.DEBUG)\n",
    "    task.run(task=dummy_task, severity_level=logging.DEBUG)\n",
    "    return \"I did a lot of things!!!\"\n",
    "\n",
    "complex_result = nr.run(task=complex_task)\n",
    "complex_result"
   ]
  },
  {
   "cell_type": "markdown",
   "id": "36d6d9c4",
   "metadata": {},
   "source": [
    "`write_results` will only write `INFO` severity and above by default, so, if we write the result, we should only see the result of the parent task:"
   ]
  },
  {
   "cell_type": "code",
   "execution_count": 7,
   "id": "9d33d258",
   "metadata": {},
   "outputs": [],
   "source": [
    "write_results(complex_result, dirpath=\"out_files/write_results\")"
   ]
  },
  {
   "cell_type": "code",
   "execution_count": 8,
   "id": "36f7b1c9",
   "metadata": {},
   "outputs": [
    {
     "name": "stdout",
     "output_type": "stream",
     "text": [
      "\u001b[1mout_files/write_results/dev1.group_1\u001b[0;0m\u001b[0m\u001b[0m\u001b[0m\n",
      "\u001b[0m\u001b[0m\u001b[0mcomplex_task********************************************************************\n",
      "* dev1.group_1 ** changed : False **********************************************\n",
      "vvvv complex_task ** changed : False vvvvvvvvvvvvvvvvvvvvvvvvvvvvvvvvvvvvvvvvvvv INFO\n",
      "I did a lot of things!!!\n",
      "^^^^ END complex_task ^^^^^^^^^^^^^^^^^^^^^^^^^^^^^^^^^^^^^^^^^^^^^^^^^^^^^^^^^^\n",
      "\u001b[0m\u001b[0m\u001b[0m\n",
      "\u001b[0m\u001b[0m\u001b[0m\u001b[1mout_files/write_results/dev2.group_1\u001b[0;0m\u001b[0m\u001b[0m\u001b[0m\n",
      "\u001b[0m\u001b[0m\u001b[0mcomplex_task********************************************************************\n",
      "* dev2.group_1 ** changed : False **********************************************\n",
      "vvvv complex_task ** changed : False vvvvvvvvvvvvvvvvvvvvvvvvvvvvvvvvvvvvvvvvvvv INFO\n",
      "I did a lot of things!!!\n",
      "^^^^ END complex_task ^^^^^^^^^^^^^^^^^^^^^^^^^^^^^^^^^^^^^^^^^^^^^^^^^^^^^^^^^^\n",
      "\u001b[0m\u001b[0m\u001b[0m\n",
      "\u001b[0m\u001b[0m\u001b[0m\u001b[1mout_files/write_results/dev3.group_2\u001b[0;0m\u001b[0m\u001b[0m\u001b[0m\n",
      "\u001b[0m\u001b[0m\u001b[0mcomplex_task********************************************************************\n",
      "* dev3.group_2 ** changed : False **********************************************\n",
      "vvvv complex_task ** changed : False vvvvvvvvvvvvvvvvvvvvvvvvvvvvvvvvvvvvvvvvvvv INFO\n",
      "I did a lot of things!!!\n",
      "^^^^ END complex_task ^^^^^^^^^^^^^^^^^^^^^^^^^^^^^^^^^^^^^^^^^^^^^^^^^^^^^^^^^^\n",
      "\u001b[0m\u001b[0m\u001b[0m\n",
      "\u001b[0m\u001b[0m\u001b[0m\u001b[1mout_files/write_results/dev4.group_2\u001b[0;0m\u001b[0m\u001b[0m\u001b[0m\n",
      "\u001b[0m\u001b[0m\u001b[0mcomplex_task********************************************************************\n",
      "* dev4.group_2 ** changed : False **********************************************\n",
      "vvvv complex_task ** changed : False vvvvvvvvvvvvvvvvvvvvvvvvvvvvvvvvvvvvvvvvvvv INFO\n",
      "I did a lot of things!!!\n",
      "^^^^ END complex_task ^^^^^^^^^^^^^^^^^^^^^^^^^^^^^^^^^^^^^^^^^^^^^^^^^^^^^^^^^^\n",
      "\u001b[0m\u001b[0m\u001b[0m\n",
      "\u001b[0m\u001b[0m\u001b[0m\u001b[1mout_files/write_results/dev5.no_group\u001b[0;0m\u001b[0m\u001b[0m\u001b[0m\n",
      "\u001b[0m\u001b[0m\u001b[0mcomplex_task********************************************************************\n",
      "* dev5.no_group ** changed : False *********************************************\n",
      "vvvv complex_task ** changed : False vvvvvvvvvvvvvvvvvvvvvvvvvvvvvvvvvvvvvvvvvvv INFO\n",
      "I did a lot of things!!!\n",
      "^^^^ END complex_task ^^^^^^^^^^^^^^^^^^^^^^^^^^^^^^^^^^^^^^^^^^^^^^^^^^^^^^^^^^\n",
      "\u001b[0m\u001b[0m\u001b[0m\n",
      "\u001b[0m\u001b[0m\u001b[0m"
     ]
    }
   ],
   "source": [
    "for filename in sorted(os.listdir(dir_path)):\n",
    "    file_path = dir_path + filename\n",
    "   \n",
    "    with open(file_path) as f:\n",
    "        print(\"\\033[1m\" + file_path + \"\\033[0;0m\", f.read(), sep='\\n')"
   ]
  },
  {
   "cell_type": "markdown",
   "id": "86998af3",
   "metadata": {},
   "source": [
    "If you want to write all the tasks for debugging purposes you could specify it with:"
   ]
  },
  {
   "cell_type": "code",
   "execution_count": 9,
   "id": "f9c380ae",
   "metadata": {},
   "outputs": [],
   "source": [
    "write_results(complex_result, dirpath=\"out_files/write_results\", severity_level=logging.DEBUG)"
   ]
  },
  {
   "cell_type": "code",
   "execution_count": 10,
   "id": "3801974b",
   "metadata": {},
   "outputs": [
    {
     "name": "stdout",
     "output_type": "stream",
     "text": [
      "\u001b[1mout_files/write_results/dev1.group_1\u001b[0;0m\u001b[0m\u001b[0m\u001b[0m\n",
      "\u001b[0m\u001b[0m\u001b[0mcomplex_task********************************************************************\n",
      "* dev1.group_1 ** changed : False **********************************************\n",
      "vvvv complex_task ** changed : False vvvvvvvvvvvvvvvvvvvvvvvvvvvvvvvvvvvvvvvvvvv INFO\n",
      "I did a lot of things!!!\n",
      "---- dummy_task ** changed : False --------------------------------------------- DEBUG\n",
      "hi!!!\n",
      "---- dummy_task ** changed : False --------------------------------------------- DEBUG\n",
      "hi!!!\n",
      "---- dummy_task ** changed : False --------------------------------------------- DEBUG\n",
      "hi!!!\n",
      "---- dummy_task ** changed : False --------------------------------------------- DEBUG\n",
      "hi!!!\n",
      "---- dummy_task ** changed : False --------------------------------------------- DEBUG\n",
      "hi!!!\n",
      "^^^^ END complex_task ^^^^^^^^^^^^^^^^^^^^^^^^^^^^^^^^^^^^^^^^^^^^^^^^^^^^^^^^^^\n",
      "\u001b[0m\u001b[0m\u001b[0m\n",
      "\u001b[0m\u001b[0m\u001b[0m\u001b[1mout_files/write_results/dev2.group_1\u001b[0;0m\u001b[0m\u001b[0m\u001b[0m\n",
      "\u001b[0m\u001b[0m\u001b[0mcomplex_task********************************************************************\n",
      "* dev2.group_1 ** changed : False **********************************************\n",
      "vvvv complex_task ** changed : False vvvvvvvvvvvvvvvvvvvvvvvvvvvvvvvvvvvvvvvvvvv INFO\n",
      "I did a lot of things!!!\n",
      "---- dummy_task ** changed : False --------------------------------------------- DEBUG\n",
      "hi!!!\n",
      "---- dummy_task ** changed : False --------------------------------------------- DEBUG\n",
      "hi!!!\n",
      "---- dummy_task ** changed : False --------------------------------------------- DEBUG\n",
      "hi!!!\n",
      "---- dummy_task ** changed : False --------------------------------------------- DEBUG\n",
      "hi!!!\n",
      "---- dummy_task ** changed : False --------------------------------------------- DEBUG\n",
      "hi!!!\n",
      "^^^^ END complex_task ^^^^^^^^^^^^^^^^^^^^^^^^^^^^^^^^^^^^^^^^^^^^^^^^^^^^^^^^^^\n",
      "\u001b[0m\u001b[0m\u001b[0m\n",
      "\u001b[0m\u001b[0m\u001b[0m\u001b[1mout_files/write_results/dev3.group_2\u001b[0;0m\u001b[0m\u001b[0m\u001b[0m\n",
      "\u001b[0m\u001b[0m\u001b[0mcomplex_task********************************************************************\n",
      "* dev3.group_2 ** changed : False **********************************************\n",
      "vvvv complex_task ** changed : False vvvvvvvvvvvvvvvvvvvvvvvvvvvvvvvvvvvvvvvvvvv INFO\n",
      "I did a lot of things!!!\n",
      "---- dummy_task ** changed : False --------------------------------------------- DEBUG\n",
      "hi!!!\n",
      "---- dummy_task ** changed : False --------------------------------------------- DEBUG\n",
      "hi!!!\n",
      "---- dummy_task ** changed : False --------------------------------------------- DEBUG\n",
      "hi!!!\n",
      "---- dummy_task ** changed : False --------------------------------------------- DEBUG\n",
      "hi!!!\n",
      "---- dummy_task ** changed : False --------------------------------------------- DEBUG\n",
      "hi!!!\n",
      "^^^^ END complex_task ^^^^^^^^^^^^^^^^^^^^^^^^^^^^^^^^^^^^^^^^^^^^^^^^^^^^^^^^^^\n",
      "\u001b[0m\u001b[0m\u001b[0m\n",
      "\u001b[0m\u001b[0m\u001b[0m\u001b[1mout_files/write_results/dev4.group_2\u001b[0;0m\u001b[0m\u001b[0m\u001b[0m\n",
      "\u001b[0m\u001b[0m\u001b[0mcomplex_task********************************************************************\n",
      "* dev4.group_2 ** changed : False **********************************************\n",
      "vvvv complex_task ** changed : False vvvvvvvvvvvvvvvvvvvvvvvvvvvvvvvvvvvvvvvvvvv INFO\n",
      "I did a lot of things!!!\n",
      "---- dummy_task ** changed : False --------------------------------------------- DEBUG\n",
      "hi!!!\n",
      "---- dummy_task ** changed : False --------------------------------------------- DEBUG\n",
      "hi!!!\n",
      "---- dummy_task ** changed : False --------------------------------------------- DEBUG\n",
      "hi!!!\n",
      "---- dummy_task ** changed : False --------------------------------------------- DEBUG\n",
      "hi!!!\n",
      "---- dummy_task ** changed : False --------------------------------------------- DEBUG\n",
      "hi!!!\n",
      "^^^^ END complex_task ^^^^^^^^^^^^^^^^^^^^^^^^^^^^^^^^^^^^^^^^^^^^^^^^^^^^^^^^^^\n",
      "\u001b[0m\u001b[0m\u001b[0m\n",
      "\u001b[0m\u001b[0m\u001b[0m\u001b[1mout_files/write_results/dev5.no_group\u001b[0;0m\u001b[0m\u001b[0m\u001b[0m\n",
      "\u001b[0m\u001b[0m\u001b[0mcomplex_task********************************************************************\n",
      "* dev5.no_group ** changed : False *********************************************\n",
      "vvvv complex_task ** changed : False vvvvvvvvvvvvvvvvvvvvvvvvvvvvvvvvvvvvvvvvvvv INFO\n",
      "I did a lot of things!!!\n",
      "---- dummy_task ** changed : False --------------------------------------------- DEBUG\n",
      "hi!!!\n",
      "---- dummy_task ** changed : False --------------------------------------------- DEBUG\n",
      "hi!!!\n",
      "---- dummy_task ** changed : False --------------------------------------------- DEBUG\n",
      "hi!!!\n",
      "---- dummy_task ** changed : False --------------------------------------------- DEBUG\n",
      "hi!!!\n",
      "---- dummy_task ** changed : False --------------------------------------------- DEBUG\n",
      "hi!!!\n",
      "^^^^ END complex_task ^^^^^^^^^^^^^^^^^^^^^^^^^^^^^^^^^^^^^^^^^^^^^^^^^^^^^^^^^^\n",
      "\u001b[0m\u001b[0m\u001b[0m\n",
      "\u001b[0m\u001b[0m\u001b[0m"
     ]
    }
   ],
   "source": [
    "for filename in sorted(os.listdir(dir_path)):\n",
    "    file_path = dir_path + filename\n",
    "   \n",
    "    with open(file_path) as f:\n",
    "        print(\"\\033[1m\" + file_path + \"\\033[0;0m\", f.read(), sep='\\n')"
   ]
  },
  {
   "cell_type": "markdown",
   "id": "b6679f4e",
   "metadata": {},
   "source": [
    "## No_errors\n",
    "\n",
    "If some `Result` objects have exceptions, then you can exclude them from the files:"
   ]
  },
  {
   "cell_type": "code",
   "execution_count": 11,
   "id": "61f6a548",
   "metadata": {},
   "outputs": [],
   "source": [
    "def task_with_exception(task):\n",
    "    return Result(host=task.host, result=\"Something went wrong\", exception=Exception())\n",
    "\n",
    "\n",
    "def task_without_exception(task):\n",
    "    return \"All is fine\"\n",
    "\n",
    "def task(task):\n",
    "    task.run(task=task_with_exception)\n",
    "    task.run(task=task_without_exception)\n",
    "    return \"What's happening?\"\n",
    "\n",
    "    \n",
    "result_with_exception = nr.run(task=task)\n",
    "\n",
    "write_results(result_with_exception, dirpath=\"out_files/write_results\")"
   ]
  },
  {
   "cell_type": "code",
   "execution_count": 12,
   "id": "f79e8ff3",
   "metadata": {},
   "outputs": [
    {
     "name": "stdout",
     "output_type": "stream",
     "text": [
      "\u001b[1mout_files/write_results/dev1.group_1\u001b[0;0m\u001b[0m\u001b[0m\u001b[0m\n",
      "\u001b[0m\u001b[0m\u001b[0mtask****************************************************************************\n",
      "* dev1.group_1 ** changed : False **********************************************\n",
      "vvvv task ** changed : False vvvvvvvvvvvvvvvvvvvvvvvvvvvvvvvvvvvvvvvvvvvvvvvvvvv INFO\n",
      "What's happening?\n",
      "---- task_with_exception ** changed : False ------------------------------------ INFO\n",
      "Something went wrong\n",
      "---- task_without_exception ** changed : False --------------------------------- INFO\n",
      "All is fine\n",
      "^^^^ END task ^^^^^^^^^^^^^^^^^^^^^^^^^^^^^^^^^^^^^^^^^^^^^^^^^^^^^^^^^^^^^^^^^^\n",
      "\u001b[0m\u001b[0m\u001b[0m\n",
      "\u001b[0m\u001b[0m\u001b[0m\u001b[1mout_files/write_results/dev2.group_1\u001b[0;0m\u001b[0m\u001b[0m\u001b[0m\n",
      "\u001b[0m\u001b[0m\u001b[0mtask****************************************************************************\n",
      "* dev2.group_1 ** changed : False **********************************************\n",
      "vvvv task ** changed : False vvvvvvvvvvvvvvvvvvvvvvvvvvvvvvvvvvvvvvvvvvvvvvvvvvv INFO\n",
      "What's happening?\n",
      "---- task_with_exception ** changed : False ------------------------------------ INFO\n",
      "Something went wrong\n",
      "---- task_without_exception ** changed : False --------------------------------- INFO\n",
      "All is fine\n",
      "^^^^ END task ^^^^^^^^^^^^^^^^^^^^^^^^^^^^^^^^^^^^^^^^^^^^^^^^^^^^^^^^^^^^^^^^^^\n",
      "\u001b[0m\u001b[0m\u001b[0m\n",
      "\u001b[0m\u001b[0m\u001b[0m\u001b[1mout_files/write_results/dev3.group_2\u001b[0;0m\u001b[0m\u001b[0m\u001b[0m\n",
      "\u001b[0m\u001b[0m\u001b[0mtask****************************************************************************\n",
      "* dev3.group_2 ** changed : False **********************************************\n",
      "vvvv task ** changed : False vvvvvvvvvvvvvvvvvvvvvvvvvvvvvvvvvvvvvvvvvvvvvvvvvvv INFO\n",
      "What's happening?\n",
      "---- task_with_exception ** changed : False ------------------------------------ INFO\n",
      "Something went wrong\n",
      "---- task_without_exception ** changed : False --------------------------------- INFO\n",
      "All is fine\n",
      "^^^^ END task ^^^^^^^^^^^^^^^^^^^^^^^^^^^^^^^^^^^^^^^^^^^^^^^^^^^^^^^^^^^^^^^^^^\n",
      "\u001b[0m\u001b[0m\u001b[0m\n",
      "\u001b[0m\u001b[0m\u001b[0m\u001b[1mout_files/write_results/dev4.group_2\u001b[0;0m\u001b[0m\u001b[0m\u001b[0m\n",
      "\u001b[0m\u001b[0m\u001b[0mtask****************************************************************************\n",
      "* dev4.group_2 ** changed : False **********************************************\n",
      "vvvv task ** changed : False vvvvvvvvvvvvvvvvvvvvvvvvvvvvvvvvvvvvvvvvvvvvvvvvvvv INFO\n",
      "What's happening?\n",
      "---- task_with_exception ** changed : False ------------------------------------ INFO\n",
      "Something went wrong\n",
      "---- task_without_exception ** changed : False --------------------------------- INFO\n",
      "All is fine\n",
      "^^^^ END task ^^^^^^^^^^^^^^^^^^^^^^^^^^^^^^^^^^^^^^^^^^^^^^^^^^^^^^^^^^^^^^^^^^\n",
      "\u001b[0m\u001b[0m\u001b[0m\n",
      "\u001b[0m\u001b[0m\u001b[0m\u001b[1mout_files/write_results/dev5.no_group\u001b[0;0m\u001b[0m\u001b[0m\u001b[0m\n",
      "\u001b[0m\u001b[0m\u001b[0mtask****************************************************************************\n",
      "* dev5.no_group ** changed : False *********************************************\n",
      "vvvv task ** changed : False vvvvvvvvvvvvvvvvvvvvvvvvvvvvvvvvvvvvvvvvvvvvvvvvvvv INFO\n",
      "What's happening?\n",
      "---- task_with_exception ** changed : False ------------------------------------ INFO\n",
      "Something went wrong\n",
      "---- task_without_exception ** changed : False --------------------------------- INFO\n",
      "All is fine\n",
      "^^^^ END task ^^^^^^^^^^^^^^^^^^^^^^^^^^^^^^^^^^^^^^^^^^^^^^^^^^^^^^^^^^^^^^^^^^\n",
      "\u001b[0m\u001b[0m\u001b[0m\n",
      "\u001b[0m\u001b[0m\u001b[0m"
     ]
    }
   ],
   "source": [
    "for filename in sorted(os.listdir(dir_path)):\n",
    "    file_path = dir_path + filename\n",
    "   \n",
    "    with open(file_path) as f:\n",
    "        print(\"\\033[1m\" + file_path + \"\\033[0;0m\", f.read(), sep='\\n')"
   ]
  },
  {
   "cell_type": "code",
   "execution_count": 13,
   "id": "0e01891c",
   "metadata": {},
   "outputs": [],
   "source": [
    "write_results(result_with_exception, dirpath=\"out_files/write_results\", no_errors=True)"
   ]
  },
  {
   "cell_type": "code",
   "execution_count": 14,
   "id": "1b7d7595",
   "metadata": {},
   "outputs": [
    {
     "name": "stdout",
     "output_type": "stream",
     "text": [
      "\u001b[1mout_files/write_results/dev1.group_1\u001b[0;0m\u001b[0m\u001b[0m\u001b[0m\n",
      "\u001b[0m\u001b[0m\u001b[0mtask****************************************************************************\n",
      "* dev1.group_1 ** changed : False **********************************************\n",
      "vvvv task ** changed : False vvvvvvvvvvvvvvvvvvvvvvvvvvvvvvvvvvvvvvvvvvvvvvvvvvv INFO\n",
      "What's happening?\n",
      "---- task_without_exception ** changed : False --------------------------------- INFO\n",
      "All is fine\n",
      "^^^^ END task ^^^^^^^^^^^^^^^^^^^^^^^^^^^^^^^^^^^^^^^^^^^^^^^^^^^^^^^^^^^^^^^^^^\n",
      "\u001b[0m\u001b[0m\u001b[0m\n",
      "\u001b[0m\u001b[0m\u001b[0m\u001b[1mout_files/write_results/dev2.group_1\u001b[0;0m\u001b[0m\u001b[0m\u001b[0m\n",
      "\u001b[0m\u001b[0m\u001b[0mtask****************************************************************************\n",
      "* dev2.group_1 ** changed : False **********************************************\n",
      "vvvv task ** changed : False vvvvvvvvvvvvvvvvvvvvvvvvvvvvvvvvvvvvvvvvvvvvvvvvvvv INFO\n",
      "What's happening?\n",
      "---- task_without_exception ** changed : False --------------------------------- INFO\n",
      "All is fine\n",
      "^^^^ END task ^^^^^^^^^^^^^^^^^^^^^^^^^^^^^^^^^^^^^^^^^^^^^^^^^^^^^^^^^^^^^^^^^^\n",
      "\u001b[0m\u001b[0m\u001b[0m\n",
      "\u001b[0m\u001b[0m\u001b[0m\u001b[1mout_files/write_results/dev3.group_2\u001b[0;0m\u001b[0m\u001b[0m\u001b[0m\n",
      "\u001b[0m\u001b[0m\u001b[0mtask****************************************************************************\n",
      "* dev3.group_2 ** changed : False **********************************************\n",
      "vvvv task ** changed : False vvvvvvvvvvvvvvvvvvvvvvvvvvvvvvvvvvvvvvvvvvvvvvvvvvv INFO\n",
      "What's happening?\n",
      "---- task_without_exception ** changed : False --------------------------------- INFO\n",
      "All is fine\n",
      "^^^^ END task ^^^^^^^^^^^^^^^^^^^^^^^^^^^^^^^^^^^^^^^^^^^^^^^^^^^^^^^^^^^^^^^^^^\n",
      "\u001b[0m\u001b[0m\u001b[0m\n",
      "\u001b[0m\u001b[0m\u001b[0m\u001b[1mout_files/write_results/dev4.group_2\u001b[0;0m\u001b[0m\u001b[0m\u001b[0m\n",
      "\u001b[0m\u001b[0m\u001b[0mtask****************************************************************************\n",
      "* dev4.group_2 ** changed : False **********************************************\n",
      "vvvv task ** changed : False vvvvvvvvvvvvvvvvvvvvvvvvvvvvvvvvvvvvvvvvvvvvvvvvvvv INFO\n",
      "What's happening?\n",
      "---- task_without_exception ** changed : False --------------------------------- INFO\n",
      "All is fine\n",
      "^^^^ END task ^^^^^^^^^^^^^^^^^^^^^^^^^^^^^^^^^^^^^^^^^^^^^^^^^^^^^^^^^^^^^^^^^^\n",
      "\u001b[0m\u001b[0m\u001b[0m\n",
      "\u001b[0m\u001b[0m\u001b[0m\u001b[1mout_files/write_results/dev5.no_group\u001b[0;0m\u001b[0m\u001b[0m\u001b[0m\n",
      "\u001b[0m\u001b[0m\u001b[0mtask****************************************************************************\n",
      "* dev5.no_group ** changed : False *********************************************\n",
      "vvvv task ** changed : False vvvvvvvvvvvvvvvvvvvvvvvvvvvvvvvvvvvvvvvvvvvvvvvvvvv INFO\n",
      "What's happening?\n",
      "---- task_without_exception ** changed : False --------------------------------- INFO\n",
      "All is fine\n",
      "^^^^ END task ^^^^^^^^^^^^^^^^^^^^^^^^^^^^^^^^^^^^^^^^^^^^^^^^^^^^^^^^^^^^^^^^^^\n",
      "\u001b[0m\u001b[0m\u001b[0m\n",
      "\u001b[0m\u001b[0m\u001b[0m"
     ]
    }
   ],
   "source": [
    "for filename in sorted(os.listdir(dir_path)):\n",
    "    file_path = dir_path + filename\n",
    "   \n",
    "    with open(file_path) as f:\n",
    "        print(\"\\033[1m\" + file_path + \"\\033[0;0m\", f.read(), sep='\\n')"
   ]
  },
  {
   "cell_type": "markdown",
   "id": "44d096ef",
   "metadata": {},
   "source": [
    "## Write_host\n",
    "\n",
    "`write_host` argument can help you, if you don't need to write hostnames to files for `MultiResult` or `Result` object. Since `write_results` writes the results to files with hostname names, this can be useful."
   ]
  },
  {
   "cell_type": "markdown",
   "id": "feaa9d4a",
   "metadata": {},
   "source": [
    "For `MultiResult`:"
   ]
  },
  {
   "cell_type": "code",
   "execution_count": 15,
   "id": "fb93e599",
   "metadata": {},
   "outputs": [],
   "source": [
    "write_results(result['dev1.group_1'], dirpath=\"out_files/write_results\", write_host=False)"
   ]
  },
  {
   "cell_type": "code",
   "execution_count": 16,
   "id": "1675db9a",
   "metadata": {},
   "outputs": [
    {
     "name": "stdout",
     "output_type": "stream",
     "text": [
      "vvvv dummy_task ** changed : False vvvvvvvvvvvvvvvvvvvvvvvvvvvvvvvvvvvvvvvvvvvvv INFO\n",
      "hi!!!\n",
      "^^^^ END dummy_task ^^^^^^^^^^^^^^^^^^^^^^^^^^^^^^^^^^^^^^^^^^^^^^^^^^^^^^^^^^^^\n",
      "\u001b[0m\u001b[0m\u001b[0m\n",
      "\u001b[0m\u001b[0m\u001b[0m"
     ]
    }
   ],
   "source": [
    "with open(\"out_files/write_results/dev1.group_1\") as f:\n",
    "    print(f.read())"
   ]
  },
  {
   "cell_type": "markdown",
   "id": "0492cba0",
   "metadata": {},
   "source": [
    "For `Result`:"
   ]
  },
  {
   "cell_type": "code",
   "execution_count": 17,
   "id": "08d7d485",
   "metadata": {},
   "outputs": [],
   "source": [
    "write_results(result['dev1.group_1'][0], dirpath=\"out_files/write_results\", write_host=False)"
   ]
  },
  {
   "cell_type": "code",
   "execution_count": 18,
   "id": "6cef8e2e",
   "metadata": {},
   "outputs": [
    {
     "name": "stdout",
     "output_type": "stream",
     "text": [
      "---- dummy_task ** changed : False --------------------------------------------- INFO\n",
      "hi!!!\n",
      "\u001b[0m\u001b[0m\u001b[0m\n",
      "\u001b[0m\u001b[0m\u001b[0m"
     ]
    }
   ],
   "source": [
    "with open(\"out_files/write_results/dev1.group_1\") as f:\n",
    "    print(f.read())"
   ]
  },
  {
   "cell_type": "markdown",
   "id": "34a824f1",
   "metadata": {},
   "source": [
    "## Append\n",
    "\n",
    "`append` argument allows you to use `a+` or `w+` (default mode) writing mode. As instance:"
   ]
  },
  {
   "cell_type": "code",
   "execution_count": 19,
   "id": "62cbce4a",
   "metadata": {},
   "outputs": [],
   "source": [
    "write_results(fav_result, dirpath=\"out_files/write_results\", append=True)"
   ]
  },
  {
   "cell_type": "code",
   "execution_count": 20,
   "id": "77bfdfba",
   "metadata": {},
   "outputs": [
    {
     "name": "stdout",
     "output_type": "stream",
     "text": [
      "\u001b[1mout_files/write_results/dev1.group_1\u001b[0;0m\u001b[0m\u001b[0m\u001b[0m\n",
      "\u001b[0m\u001b[0m\u001b[0m---- dummy_task ** changed : False --------------------------------------------- INFO\n",
      "hi!!!\n",
      "\n",
      "\n",
      "task_with_data******************************************************************\n",
      "* dev1.group_1 ** changed : False **********************************************\n",
      "vvvv task_with_data ** changed : False vvvvvvvvvvvvvvvvvvvvvvvvvvvvvvvvvvvvvvvvv INFO\n",
      "Spaghetti monster\n",
      "^^^^ END task_with_data ^^^^^^^^^^^^^^^^^^^^^^^^^^^^^^^^^^^^^^^^^^^^^^^^^^^^^^^^\n",
      "\u001b[0m\u001b[0m\u001b[0m\n",
      "\u001b[0m\u001b[0m\u001b[0m\u001b[1mout_files/write_results/dev2.group_1\u001b[0;0m\u001b[0m\u001b[0m\u001b[0m\n",
      "\u001b[0m\u001b[0m\u001b[0mtask****************************************************************************\n",
      "* dev2.group_1 ** changed : False **********************************************\n",
      "vvvv task ** changed : False vvvvvvvvvvvvvvvvvvvvvvvvvvvvvvvvvvvvvvvvvvvvvvvvvvv INFO\n",
      "What's happening?\n",
      "---- task_without_exception ** changed : False --------------------------------- INFO\n",
      "All is fine\n",
      "^^^^ END task ^^^^^^^^^^^^^^^^^^^^^^^^^^^^^^^^^^^^^^^^^^^^^^^^^^^^^^^^^^^^^^^^^^\n",
      "\n",
      "\n",
      "task_with_data******************************************************************\n",
      "* dev2.group_1 ** changed : False **********************************************\n",
      "vvvv task_with_data ** changed : False vvvvvvvvvvvvvvvvvvvvvvvvvvvvvvvvvvvvvvvvv INFO\n",
      "Spaghetti monster\n",
      "^^^^ END task_with_data ^^^^^^^^^^^^^^^^^^^^^^^^^^^^^^^^^^^^^^^^^^^^^^^^^^^^^^^^\n",
      "\u001b[0m\u001b[0m\u001b[0m\n",
      "\u001b[0m\u001b[0m\u001b[0m\u001b[1mout_files/write_results/dev3.group_2\u001b[0;0m\u001b[0m\u001b[0m\u001b[0m\n",
      "\u001b[0m\u001b[0m\u001b[0mtask****************************************************************************\n",
      "* dev3.group_2 ** changed : False **********************************************\n",
      "vvvv task ** changed : False vvvvvvvvvvvvvvvvvvvvvvvvvvvvvvvvvvvvvvvvvvvvvvvvvvv INFO\n",
      "What's happening?\n",
      "---- task_without_exception ** changed : False --------------------------------- INFO\n",
      "All is fine\n",
      "^^^^ END task ^^^^^^^^^^^^^^^^^^^^^^^^^^^^^^^^^^^^^^^^^^^^^^^^^^^^^^^^^^^^^^^^^^\n",
      "\n",
      "\n",
      "task_with_data******************************************************************\n",
      "* dev3.group_2 ** changed : False **********************************************\n",
      "vvvv task_with_data ** changed : False vvvvvvvvvvvvvvvvvvvvvvvvvvvvvvvvvvvvvvvvv INFO\n",
      "Spaghetti monster\n",
      "^^^^ END task_with_data ^^^^^^^^^^^^^^^^^^^^^^^^^^^^^^^^^^^^^^^^^^^^^^^^^^^^^^^^\n",
      "\u001b[0m\u001b[0m\u001b[0m\n",
      "\u001b[0m\u001b[0m\u001b[0m\u001b[1mout_files/write_results/dev4.group_2\u001b[0;0m\u001b[0m\u001b[0m\u001b[0m\n",
      "\u001b[0m\u001b[0m\u001b[0mtask****************************************************************************\n",
      "* dev4.group_2 ** changed : False **********************************************\n",
      "vvvv task ** changed : False vvvvvvvvvvvvvvvvvvvvvvvvvvvvvvvvvvvvvvvvvvvvvvvvvvv INFO\n",
      "What's happening?\n",
      "---- task_without_exception ** changed : False --------------------------------- INFO\n",
      "All is fine\n",
      "^^^^ END task ^^^^^^^^^^^^^^^^^^^^^^^^^^^^^^^^^^^^^^^^^^^^^^^^^^^^^^^^^^^^^^^^^^\n",
      "\n",
      "\n",
      "task_with_data******************************************************************\n",
      "* dev4.group_2 ** changed : False **********************************************\n",
      "vvvv task_with_data ** changed : False vvvvvvvvvvvvvvvvvvvvvvvvvvvvvvvvvvvvvvvvv INFO\n",
      "Spaghetti monster\n",
      "^^^^ END task_with_data ^^^^^^^^^^^^^^^^^^^^^^^^^^^^^^^^^^^^^^^^^^^^^^^^^^^^^^^^\n",
      "\u001b[0m\u001b[0m\u001b[0m\n",
      "\u001b[0m\u001b[0m\u001b[0m\u001b[1mout_files/write_results/dev5.no_group\u001b[0;0m\u001b[0m\u001b[0m\u001b[0m\n",
      "\u001b[0m\u001b[0m\u001b[0mtask****************************************************************************\n",
      "* dev5.no_group ** changed : False *********************************************\n",
      "vvvv task ** changed : False vvvvvvvvvvvvvvvvvvvvvvvvvvvvvvvvvvvvvvvvvvvvvvvvvvv INFO\n",
      "What's happening?\n",
      "---- task_without_exception ** changed : False --------------------------------- INFO\n",
      "All is fine\n",
      "^^^^ END task ^^^^^^^^^^^^^^^^^^^^^^^^^^^^^^^^^^^^^^^^^^^^^^^^^^^^^^^^^^^^^^^^^^\n",
      "\n",
      "\n",
      "task_with_data******************************************************************\n",
      "* dev5.no_group ** changed : False *********************************************\n",
      "vvvv task_with_data ** changed : False vvvvvvvvvvvvvvvvvvvvvvvvvvvvvvvvvvvvvvvvv INFO\n",
      "Spaghetti monster\n",
      "^^^^ END task_with_data ^^^^^^^^^^^^^^^^^^^^^^^^^^^^^^^^^^^^^^^^^^^^^^^^^^^^^^^^\n",
      "\u001b[0m\u001b[0m\u001b[0m\n",
      "\u001b[0m\u001b[0m\u001b[0m"
     ]
    }
   ],
   "source": [
    "for filename in sorted(os.listdir(dir_path)):\n",
    "    file_path = dir_path + filename\n",
    "   \n",
    "    with open(file_path) as f:\n",
    "        print(\"\\033[1m\" + file_path + \"\\033[0;0m\", f.read(), sep='\\n')"
   ]
  }
 ],
 "metadata": {
  "kernelspec": {
   "display_name": "Python 3 (ipykernel)",
   "language": "python",
   "name": "python3"
  },
  "language_info": {
   "codemirror_mode": {
    "name": "ipython",
    "version": 3
   },
   "file_extension": ".py",
   "mimetype": "text/x-python",
   "name": "python",
   "nbconvert_exporter": "python",
   "pygments_lexer": "ipython3",
   "version": "3.9.5"
  }
 },
 "nbformat": 4,
 "nbformat_minor": 5
}
